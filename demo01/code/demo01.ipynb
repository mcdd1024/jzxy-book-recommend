{
 "cells": [
  {
   "metadata": {},
   "cell_type": "markdown",
   "source": "加载数据集并检查书籍、用户和评分数据集的形状",
   "id": "4aca321553b7bd64"
  },
  {
   "metadata": {
    "ExecuteTime": {
     "end_time": "2024-07-14T10:21:30.532283Z",
     "start_time": "2024-07-14T10:21:28.143136Z"
    }
   },
   "cell_type": "code",
   "source": [
    "import pandas as pd\n",
    "\n",
    "books = pd.read_csv('../data/BX-Books.csv', on_bad_lines='skip', sep=';', dtype={3: str}, encoding=\"latin-1\")\n",
    "books.columns = ['ISBN', 'bookTitle', 'bookAuthor', 'yearOfPublication', 'publisher', 'imageUrlS', 'imageUrlM',\n",
    "                 'imageUrlL']\n",
    "users = pd.read_csv('../data/BX-Users.csv', on_bad_lines='skip', sep=';', encoding=\"latin-1\")\n",
    "users.columns = ['userID', 'Location', 'Age']\n",
    "ratings = pd.read_csv('../data/BX-Book-Ratings.csv', on_bad_lines='skip', sep=';', encoding=\"latin-1\")\n",
    "ratings.columns = ['userID', 'ISBN', 'bookRating']"
   ],
   "id": "29e8e08365ba7de",
   "outputs": [],
   "execution_count": 56
  },
  {
   "metadata": {
    "ExecuteTime": {
     "end_time": "2024-07-14T10:21:30.540307Z",
     "start_time": "2024-07-14T10:21:30.535292Z"
    }
   },
   "cell_type": "code",
   "source": [
    "print(books.shape)\n",
    "print(users.shape)\n",
    "print(ratings.shape)"
   ],
   "id": "cae8bb8bccaef6cf",
   "outputs": [
    {
     "name": "stdout",
     "output_type": "stream",
     "text": [
      "(271360, 8)\n",
      "(278858, 3)\n",
      "(1149780, 3)\n"
     ]
    }
   ],
   "execution_count": 57
  },
  {
   "metadata": {},
   "cell_type": "markdown",
   "source": "逐个探索每个数据集并从书籍数据集开始",
   "id": "26fde8e94ddf2b0"
  },
  {
   "metadata": {
    "ExecuteTime": {
     "end_time": "2024-07-14T10:21:30.547625Z",
     "start_time": "2024-07-14T10:21:30.542314Z"
    }
   },
   "cell_type": "code",
   "source": "print(books.columns)",
   "id": "a1853fd1f4318075",
   "outputs": [
    {
     "name": "stdout",
     "output_type": "stream",
     "text": [
      "Index(['ISBN', 'bookTitle', 'bookAuthor', 'yearOfPublication', 'publisher',\n",
      "       'imageUrlS', 'imageUrlM', 'imageUrlL'],\n",
      "      dtype='object')\n"
     ]
    }
   ],
   "execution_count": 58
  },
  {
   "metadata": {},
   "cell_type": "markdown",
   "source": "我们可以看到图像URL列似乎不需要进行分析，因此可以删除这些列。",
   "id": "73ab299d489b124d"
  },
  {
   "metadata": {},
   "cell_type": "markdown",
   "source": "",
   "id": "5b4d9d1440417dc"
  },
  {
   "metadata": {
    "ExecuteTime": {
     "end_time": "2024-07-14T10:21:30.608297Z",
     "start_time": "2024-07-14T10:21:30.549635Z"
    }
   },
   "cell_type": "code",
   "source": [
    "books.drop(['imageUrlS', 'imageUrlM', 'imageUrlL'], axis=1, inplace=True)\n",
    "print(books.columns)  # 输出删除后的 columns"
   ],
   "id": "62d716410703ae47",
   "outputs": [
    {
     "name": "stdout",
     "output_type": "stream",
     "text": [
      "Index(['ISBN', 'bookTitle', 'bookAuthor', 'yearOfPublication', 'publisher'], dtype='object')\n"
     ]
    }
   ],
   "execution_count": 59
  },
  {
   "metadata": {},
   "cell_type": "markdown",
   "source": "我们现在检查每个列的数据类型，并更正缺失和不一致的条目",
   "id": "55ffd6ac4c18f7f6"
  },
  {
   "metadata": {
    "ExecuteTime": {
     "end_time": "2024-07-14T10:21:30.615072Z",
     "start_time": "2024-07-14T10:21:30.609318Z"
    }
   },
   "cell_type": "code",
   "source": "print(books.dtypes)",
   "id": "6db8e693ddf74cef",
   "outputs": [
    {
     "name": "stdout",
     "output_type": "stream",
     "text": [
      "ISBN                 object\n",
      "bookTitle            object\n",
      "bookAuthor           object\n",
      "yearOfPublication    object\n",
      "publisher            object\n",
      "dtype: object\n"
     ]
    }
   ],
   "execution_count": 60
  },
  {
   "metadata": {},
   "cell_type": "markdown",
   "source": "yearOfPublication 列,现在我们检查此属性的唯一值",
   "id": "1910f7f84dc6e1b7"
  },
  {
   "metadata": {
    "ExecuteTime": {
     "end_time": "2024-07-14T10:21:30.632551Z",
     "start_time": "2024-07-14T10:21:30.617101Z"
    }
   },
   "cell_type": "code",
   "source": "books.yearOfPublication.unique()",
   "id": "612900a4616690b5",
   "outputs": [
    {
     "data": {
      "text/plain": [
       "array(['2002', '2001', '1991', '1999', '2000', '1993', '1996', '1988',\n",
       "       '2004', '1998', '1994', '2003', '1997', '1983', '1979', '1995',\n",
       "       '1982', '1985', '1992', '1986', '1978', '1980', '1952', '1987',\n",
       "       '1990', '1981', '1989', '1984', '0', '1968', '1961', '1958',\n",
       "       '1974', '1976', '1971', '1977', '1975', '1965', '1941', '1970',\n",
       "       '1962', '1973', '1972', '1960', '1966', '1920', '1956', '1959',\n",
       "       '1953', '1951', '1942', '1963', '1964', '1969', '1954', '1950',\n",
       "       '1967', '2005', '1957', '1940', '1937', '1955', '1946', '1936',\n",
       "       '1930', '2011', '1925', '1948', '1943', '1947', '1945', '1923',\n",
       "       '2020', '1939', '1926', '1938', '2030', '1911', '1904', '1949',\n",
       "       '1932', '1928', '1929', '1927', '1931', '1914', '2050', '1934',\n",
       "       '1910', '1933', '1902', '1924', '1921', '1900', '2038', '2026',\n",
       "       '1944', '1917', '1901', '2010', '1908', '1906', '1935', '1806',\n",
       "       '2021', '2012', '2006', 'DK Publishing Inc', 'Gallimard', '1909',\n",
       "       '2008', '1378', '1919', '1922', '1897', '2024', '1376', '2037'],\n",
       "      dtype=object)"
      ]
     },
     "execution_count": 61,
     "metadata": {},
     "output_type": "execute_result"
    }
   ],
   "execution_count": 61
  },
  {
   "metadata": {},
   "cell_type": "markdown",
   "source": [
    "yearOfPublication中有一些不正确的条目：\n",
    "- 由于 csv 文件中的一些错误，发布商名称 'DK Publishing Inc'和'Gallimard' 在数据集中被错误地加载为 yearOfPublication。\n",
    "- 此外，某些值是字符串，并且在某些地方已将相同年份作为数字输入。\n",
    "我们将对这些行进行必要的更正，并将 yearOfPublication 的数据类型设置为 int。"
   ],
   "id": "ab8e6169416d399a"
  },
  {
   "metadata": {
    "ExecuteTime": {
     "end_time": "2024-07-14T10:21:30.653836Z",
     "start_time": "2024-07-14T10:21:30.633556Z"
    }
   },
   "cell_type": "code",
   "source": "books.loc[books.yearOfPublication == 'DK Publishing Inc', :]",
   "id": "cdd4678150e84e36",
   "outputs": [
    {
     "data": {
      "text/plain": [
       "              ISBN                                          bookTitle  \\\n",
       "209538  078946697X  DK Readers: Creating the X-Men, How It All Beg...   \n",
       "221678  0789466953  DK Readers: Creating the X-Men, How Comic Book...   \n",
       "\n",
       "       bookAuthor  yearOfPublication  \\\n",
       "209538       2000  DK Publishing Inc   \n",
       "221678       2000  DK Publishing Inc   \n",
       "\n",
       "                                                publisher  \n",
       "209538  http://images.amazon.com/images/P/078946697X.0...  \n",
       "221678  http://images.amazon.com/images/P/0789466953.0...  "
      ],
      "text/html": [
       "<div>\n",
       "<style scoped>\n",
       "    .dataframe tbody tr th:only-of-type {\n",
       "        vertical-align: middle;\n",
       "    }\n",
       "\n",
       "    .dataframe tbody tr th {\n",
       "        vertical-align: top;\n",
       "    }\n",
       "\n",
       "    .dataframe thead th {\n",
       "        text-align: right;\n",
       "    }\n",
       "</style>\n",
       "<table border=\"1\" class=\"dataframe\">\n",
       "  <thead>\n",
       "    <tr style=\"text-align: right;\">\n",
       "      <th></th>\n",
       "      <th>ISBN</th>\n",
       "      <th>bookTitle</th>\n",
       "      <th>bookAuthor</th>\n",
       "      <th>yearOfPublication</th>\n",
       "      <th>publisher</th>\n",
       "    </tr>\n",
       "  </thead>\n",
       "  <tbody>\n",
       "    <tr>\n",
       "      <th>209538</th>\n",
       "      <td>078946697X</td>\n",
       "      <td>DK Readers: Creating the X-Men, How It All Beg...</td>\n",
       "      <td>2000</td>\n",
       "      <td>DK Publishing Inc</td>\n",
       "      <td>http://images.amazon.com/images/P/078946697X.0...</td>\n",
       "    </tr>\n",
       "    <tr>\n",
       "      <th>221678</th>\n",
       "      <td>0789466953</td>\n",
       "      <td>DK Readers: Creating the X-Men, How Comic Book...</td>\n",
       "      <td>2000</td>\n",
       "      <td>DK Publishing Inc</td>\n",
       "      <td>http://images.amazon.com/images/P/0789466953.0...</td>\n",
       "    </tr>\n",
       "  </tbody>\n",
       "</table>\n",
       "</div>"
      ]
     },
     "execution_count": 62,
     "metadata": {},
     "output_type": "execute_result"
    }
   ],
   "execution_count": 62
  },
  {
   "metadata": {},
   "cell_type": "markdown",
   "source": "从上面可以看出，bookAuthor 错误的装载有误，因此需要进行修正",
   "id": "ef483f6c145753cf"
  },
  {
   "metadata": {
    "ExecuteTime": {
     "end_time": "2024-07-14T10:21:30.827221Z",
     "start_time": "2024-07-14T10:21:30.655841Z"
    }
   },
   "cell_type": "code",
   "source": [
    "# ISBN '0789466953'\n",
    "books.loc[books.ISBN == '0789466953','yearOfPublication'] = 2000\n",
    "books.loc[books.ISBN == '0789466953','bookAuthor'] = \"James Buckley\"\n",
    "books.loc[books.ISBN == '0789466953','publisher'] = \"DK Publishing Inc\"\n",
    "books.loc[books.ISBN == '0789466953','bookTitle'] = \"DK Readers: Creating the X-Men, How Comic Books Come to Life (Level 4: Proficient Readers)\"\n",
    "\n",
    "#ISBN '078946697X'\n",
    "books.loc[books.ISBN == '078946697X','yearOfPublication'] = 2000\n",
    "books.loc[books.ISBN == '078946697X','bookAuthor'] = \"Michael Teitelbaum\"\n",
    "books.loc[books.ISBN == '078946697X','publisher'] = \"DK Publishing Inc\"\n",
    "books.loc[books.ISBN == '078946697X','bookTitle'] = \"DK Readers: Creating the X-Men, How It All Began (Level 4: Proficient Readers)\"\n",
    "\n",
    "books.loc[(books.ISBN == '0789466953') | (books.ISBN == '078946697X'),:]\n"
   ],
   "id": "3e5d769a12a7e214",
   "outputs": [
    {
     "data": {
      "text/plain": [
       "              ISBN                                          bookTitle  \\\n",
       "209538  078946697X  DK Readers: Creating the X-Men, How It All Beg...   \n",
       "221678  0789466953  DK Readers: Creating the X-Men, How Comic Book...   \n",
       "\n",
       "                bookAuthor yearOfPublication          publisher  \n",
       "209538  Michael Teitelbaum              2000  DK Publishing Inc  \n",
       "221678       James Buckley              2000  DK Publishing Inc  "
      ],
      "text/html": [
       "<div>\n",
       "<style scoped>\n",
       "    .dataframe tbody tr th:only-of-type {\n",
       "        vertical-align: middle;\n",
       "    }\n",
       "\n",
       "    .dataframe tbody tr th {\n",
       "        vertical-align: top;\n",
       "    }\n",
       "\n",
       "    .dataframe thead th {\n",
       "        text-align: right;\n",
       "    }\n",
       "</style>\n",
       "<table border=\"1\" class=\"dataframe\">\n",
       "  <thead>\n",
       "    <tr style=\"text-align: right;\">\n",
       "      <th></th>\n",
       "      <th>ISBN</th>\n",
       "      <th>bookTitle</th>\n",
       "      <th>bookAuthor</th>\n",
       "      <th>yearOfPublication</th>\n",
       "      <th>publisher</th>\n",
       "    </tr>\n",
       "  </thead>\n",
       "  <tbody>\n",
       "    <tr>\n",
       "      <th>209538</th>\n",
       "      <td>078946697X</td>\n",
       "      <td>DK Readers: Creating the X-Men, How It All Beg...</td>\n",
       "      <td>Michael Teitelbaum</td>\n",
       "      <td>2000</td>\n",
       "      <td>DK Publishing Inc</td>\n",
       "    </tr>\n",
       "    <tr>\n",
       "      <th>221678</th>\n",
       "      <td>0789466953</td>\n",
       "      <td>DK Readers: Creating the X-Men, How Comic Book...</td>\n",
       "      <td>James Buckley</td>\n",
       "      <td>2000</td>\n",
       "      <td>DK Publishing Inc</td>\n",
       "    </tr>\n",
       "  </tbody>\n",
       "</table>\n",
       "</div>"
      ]
     },
     "execution_count": 63,
     "metadata": {},
     "output_type": "execute_result"
    }
   ],
   "execution_count": 63
  },
  {
   "metadata": {},
   "cell_type": "markdown",
   "source": "继续纠正出版年鉴的类型",
   "id": "58590d7dee6ec560"
  },
  {
   "metadata": {
    "ExecuteTime": {
     "end_time": "2024-07-14T10:21:30.984222Z",
     "start_time": "2024-07-14T10:21:30.829228Z"
    }
   },
   "cell_type": "code",
   "source": [
    "books.yearOfPublication=pd.to_numeric(books.yearOfPublication, errors='coerce')\n",
    "sorted(books['yearOfPublication'].unique())"
   ],
   "id": "f5f13160bfffe341",
   "outputs": [
    {
     "data": {
      "text/plain": [
       "[np.float64(0.0),\n",
       " np.float64(1376.0),\n",
       " np.float64(1378.0),\n",
       " np.float64(1806.0),\n",
       " np.float64(1897.0),\n",
       " np.float64(1900.0),\n",
       " np.float64(1901.0),\n",
       " np.float64(1902.0),\n",
       " np.float64(1904.0),\n",
       " np.float64(1906.0),\n",
       " np.float64(1908.0),\n",
       " np.float64(1909.0),\n",
       " np.float64(1910.0),\n",
       " np.float64(1911.0),\n",
       " np.float64(1914.0),\n",
       " np.float64(1917.0),\n",
       " np.float64(1919.0),\n",
       " np.float64(1920.0),\n",
       " np.float64(1921.0),\n",
       " np.float64(1922.0),\n",
       " np.float64(1923.0),\n",
       " np.float64(1924.0),\n",
       " np.float64(1925.0),\n",
       " np.float64(1926.0),\n",
       " np.float64(1927.0),\n",
       " np.float64(1928.0),\n",
       " np.float64(1929.0),\n",
       " np.float64(1930.0),\n",
       " np.float64(1931.0),\n",
       " np.float64(1932.0),\n",
       " np.float64(1933.0),\n",
       " np.float64(1934.0),\n",
       " np.float64(1935.0),\n",
       " np.float64(1936.0),\n",
       " np.float64(1937.0),\n",
       " np.float64(1938.0),\n",
       " np.float64(1939.0),\n",
       " np.float64(1940.0),\n",
       " np.float64(1941.0),\n",
       " np.float64(1942.0),\n",
       " np.float64(1943.0),\n",
       " np.float64(1944.0),\n",
       " np.float64(1945.0),\n",
       " np.float64(1946.0),\n",
       " np.float64(1947.0),\n",
       " np.float64(1948.0),\n",
       " np.float64(1949.0),\n",
       " np.float64(1950.0),\n",
       " np.float64(1951.0),\n",
       " np.float64(1952.0),\n",
       " np.float64(1953.0),\n",
       " np.float64(1954.0),\n",
       " np.float64(1955.0),\n",
       " np.float64(1956.0),\n",
       " np.float64(1957.0),\n",
       " np.float64(1958.0),\n",
       " np.float64(1959.0),\n",
       " np.float64(1960.0),\n",
       " np.float64(1961.0),\n",
       " np.float64(1962.0),\n",
       " np.float64(1963.0),\n",
       " np.float64(1964.0),\n",
       " np.float64(1965.0),\n",
       " np.float64(1966.0),\n",
       " np.float64(1967.0),\n",
       " np.float64(1968.0),\n",
       " np.float64(1969.0),\n",
       " np.float64(1970.0),\n",
       " np.float64(1971.0),\n",
       " np.float64(1972.0),\n",
       " np.float64(1973.0),\n",
       " np.float64(1974.0),\n",
       " np.float64(1975.0),\n",
       " np.float64(1976.0),\n",
       " np.float64(1977.0),\n",
       " np.float64(1978.0),\n",
       " np.float64(1979.0),\n",
       " np.float64(1980.0),\n",
       " np.float64(1981.0),\n",
       " np.float64(1982.0),\n",
       " np.float64(1983.0),\n",
       " np.float64(1984.0),\n",
       " np.float64(1985.0),\n",
       " np.float64(1986.0),\n",
       " np.float64(1987.0),\n",
       " np.float64(1988.0),\n",
       " np.float64(1989.0),\n",
       " np.float64(1990.0),\n",
       " np.float64(1991.0),\n",
       " np.float64(1992.0),\n",
       " np.float64(1993.0),\n",
       " np.float64(1994.0),\n",
       " np.float64(1995.0),\n",
       " np.float64(1996.0),\n",
       " np.float64(1997.0),\n",
       " np.float64(1998.0),\n",
       " np.float64(1999.0),\n",
       " np.float64(2000.0),\n",
       " np.float64(2001.0),\n",
       " np.float64(2002.0),\n",
       " np.float64(2003.0),\n",
       " np.float64(2004.0),\n",
       " np.float64(2005.0),\n",
       " np.float64(2006.0),\n",
       " np.float64(2008.0),\n",
       " np.float64(2010.0),\n",
       " np.float64(2011.0),\n",
       " np.float64(2012.0),\n",
       " np.float64(2020.0),\n",
       " np.float64(2021.0),\n",
       " np.float64(2024.0),\n",
       " np.float64(2026.0),\n",
       " np.float64(2030.0),\n",
       " np.float64(2037.0),\n",
       " np.float64(2038.0),\n",
       " np.float64(2050.0),\n",
       " np.float64(nan)]"
      ]
     },
     "execution_count": 64,
     "metadata": {},
     "output_type": "execute_result"
    }
   ],
   "execution_count": 64
  },
  {
   "metadata": {},
   "cell_type": "markdown",
   "source": [
    "现在可以看出 yearOfPublication 的类型为 float64，其值范围 为0-2050\n",
    "由于该数据集建于 2004 年，我假设 2006 年之后的所有年份都无效，保留两年以防数据集可能已更新\n",
    "对于所有无效条目（包括 0），我将这些条目转换为 NaN，然后用剩余年份的平均值替换它们"
   ],
   "id": "7b341a3faf059b57"
  },
  {
   "metadata": {
    "ExecuteTime": {
     "end_time": "2024-07-14T10:21:30.993586Z",
     "start_time": "2024-07-14T10:21:30.988231Z"
    }
   },
   "cell_type": "code",
   "source": [
    "import numpy as np\n",
    "\n",
    "books.loc[(books.yearOfPublication > 2006) | (books.yearOfPublication == 0), 'yearOfPublication'] = np.nan\n"
   ],
   "id": "14578835e4524a45",
   "outputs": [],
   "execution_count": 65
  },
  {
   "metadata": {},
   "cell_type": "markdown",
   "source": "用年出版的平均价值代替 NaN 在案例数据集被更新的情况下保留一定的空白",
   "id": "2a02a48ffa444bfd"
  },
  {
   "metadata": {
    "ExecuteTime": {
     "end_time": "2024-07-14T10:21:31.004869Z",
     "start_time": "2024-07-14T10:21:30.994593Z"
    }
   },
   "cell_type": "code",
   "source": [
    "books.yearOfPublication = books.yearOfPublication.fillna(round(books.yearOfPublication.mean()))\n",
    "books.yearOfPublication.isnull().sum()"
   ],
   "id": "8b8842a8f7df49d5",
   "outputs": [
    {
     "data": {
      "text/plain": [
       "np.int64(0)"
      ]
     },
     "execution_count": 66,
     "metadata": {},
     "output_type": "execute_result"
    }
   ],
   "execution_count": 66
  },
  {
   "metadata": {},
   "cell_type": "markdown",
   "source": "将 dtype 重置为 int32",
   "id": "1d763847341892f5"
  },
  {
   "metadata": {
    "ExecuteTime": {
     "end_time": "2024-07-14T10:21:31.010885Z",
     "start_time": "2024-07-14T10:21:31.005877Z"
    }
   },
   "cell_type": "code",
   "source": "books.yearOfPublication = books.yearOfPublication.astype(np.int32)",
   "id": "7fd24083a08b2c10",
   "outputs": [],
   "execution_count": 67
  },
  {
   "metadata": {},
   "cell_type": "markdown",
   "source": "来到 publisher 专栏，我已经处理了两个 NaN 值，将其替换为 其他",
   "id": "23179292612d47b4"
  },
  {
   "metadata": {
    "ExecuteTime": {
     "end_time": "2024-07-14T10:21:31.027464Z",
     "start_time": "2024-07-14T10:21:31.011892Z"
    }
   },
   "cell_type": "code",
   "source": "books.loc[books.publisher.isnull(),:]",
   "id": "dfb5c81f9391a7d",
   "outputs": [
    {
     "data": {
      "text/plain": [
       "              ISBN        bookTitle       bookAuthor  yearOfPublication  \\\n",
       "128890  193169656X      Tyrant Moon  Elaine Corvidae               2002   \n",
       "129037  1931696993  Finders Keepers  Linnea Sinclair               2001   \n",
       "\n",
       "       publisher  \n",
       "128890       NaN  \n",
       "129037       NaN  "
      ],
      "text/html": [
       "<div>\n",
       "<style scoped>\n",
       "    .dataframe tbody tr th:only-of-type {\n",
       "        vertical-align: middle;\n",
       "    }\n",
       "\n",
       "    .dataframe tbody tr th {\n",
       "        vertical-align: top;\n",
       "    }\n",
       "\n",
       "    .dataframe thead th {\n",
       "        text-align: right;\n",
       "    }\n",
       "</style>\n",
       "<table border=\"1\" class=\"dataframe\">\n",
       "  <thead>\n",
       "    <tr style=\"text-align: right;\">\n",
       "      <th></th>\n",
       "      <th>ISBN</th>\n",
       "      <th>bookTitle</th>\n",
       "      <th>bookAuthor</th>\n",
       "      <th>yearOfPublication</th>\n",
       "      <th>publisher</th>\n",
       "    </tr>\n",
       "  </thead>\n",
       "  <tbody>\n",
       "    <tr>\n",
       "      <th>128890</th>\n",
       "      <td>193169656X</td>\n",
       "      <td>Tyrant Moon</td>\n",
       "      <td>Elaine Corvidae</td>\n",
       "      <td>2002</td>\n",
       "      <td>NaN</td>\n",
       "    </tr>\n",
       "    <tr>\n",
       "      <th>129037</th>\n",
       "      <td>1931696993</td>\n",
       "      <td>Finders Keepers</td>\n",
       "      <td>Linnea Sinclair</td>\n",
       "      <td>2001</td>\n",
       "      <td>NaN</td>\n",
       "    </tr>\n",
       "  </tbody>\n",
       "</table>\n",
       "</div>"
      ]
     },
     "execution_count": 68,
     "metadata": {},
     "output_type": "execute_result"
    }
   ],
   "execution_count": 68
  },
  {
   "metadata": {},
   "cell_type": "markdown",
   "source": "调查有 NaNs 的行以 Tyrant Moon 的书名来查看是否能得到任何线索",
   "id": "9a26775d1f3028"
  },
  {
   "metadata": {
    "ExecuteTime": {
     "end_time": "2024-07-14T10:21:31.051759Z",
     "start_time": "2024-07-14T10:21:31.028469Z"
    }
   },
   "cell_type": "code",
   "source": "books.loc[(books.bookTitle == 'Tyrant Moon'),:]",
   "id": "69f1d1d27d794b07",
   "outputs": [
    {
     "data": {
      "text/plain": [
       "              ISBN    bookTitle       bookAuthor  yearOfPublication publisher\n",
       "128890  193169656X  Tyrant Moon  Elaine Corvidae               2002       NaN"
      ],
      "text/html": [
       "<div>\n",
       "<style scoped>\n",
       "    .dataframe tbody tr th:only-of-type {\n",
       "        vertical-align: middle;\n",
       "    }\n",
       "\n",
       "    .dataframe tbody tr th {\n",
       "        vertical-align: top;\n",
       "    }\n",
       "\n",
       "    .dataframe thead th {\n",
       "        text-align: right;\n",
       "    }\n",
       "</style>\n",
       "<table border=\"1\" class=\"dataframe\">\n",
       "  <thead>\n",
       "    <tr style=\"text-align: right;\">\n",
       "      <th></th>\n",
       "      <th>ISBN</th>\n",
       "      <th>bookTitle</th>\n",
       "      <th>bookAuthor</th>\n",
       "      <th>yearOfPublication</th>\n",
       "      <th>publisher</th>\n",
       "    </tr>\n",
       "  </thead>\n",
       "  <tbody>\n",
       "    <tr>\n",
       "      <th>128890</th>\n",
       "      <td>193169656X</td>\n",
       "      <td>Tyrant Moon</td>\n",
       "      <td>Elaine Corvidae</td>\n",
       "      <td>2002</td>\n",
       "      <td>NaN</td>\n",
       "    </tr>\n",
       "  </tbody>\n",
       "</table>\n",
       "</div>"
      ]
     },
     "execution_count": 69,
     "metadata": {},
     "output_type": "execute_result"
    }
   ],
   "execution_count": 69
  },
  {
   "metadata": {},
   "cell_type": "markdown",
   "source": "检查行是否有书签作为查找器，看看我们是否能得到任何线索与不同的出版商和图书作者的所有行",
   "id": "11dc9ae167c02a76"
  },
  {
   "metadata": {
    "ExecuteTime": {
     "end_time": "2024-07-14T10:21:31.077510Z",
     "start_time": "2024-07-14T10:21:31.052771Z"
    }
   },
   "cell_type": "code",
   "source": "books.loc[(books.bookTitle == 'Finders Keepers'),:]",
   "id": "bf430f48d94c6fba",
   "outputs": [
    {
     "data": {
      "text/plain": [
       "              ISBN        bookTitle        bookAuthor  yearOfPublication  \\\n",
       "10799   082177364X  Finders Keepers     Fern Michaels               2002   \n",
       "42019   0070465037  Finders Keepers  Barbara Nickolae               1989   \n",
       "58264   0688118461  Finders Keepers       Emily Rodda               1993   \n",
       "66678   1575663236  Finders Keepers     Fern Michaels               1998   \n",
       "129037  1931696993  Finders Keepers   Linnea Sinclair               2001   \n",
       "134309  0156309505  Finders Keepers              Will               1989   \n",
       "173473  0973146907  Finders Keepers  Sean M. Costello               2002   \n",
       "195885  0061083909  Finders Keepers       Sharon Sala               2003   \n",
       "211874  0373261160  Finders Keepers  Elizabeth Travis               1993   \n",
       "\n",
       "                                publisher  \n",
       "10799                         Zebra Books  \n",
       "42019               McGraw-Hill Companies  \n",
       "58264        Harpercollins Juvenile Books  \n",
       "66678   Kensington Publishing Corporation  \n",
       "129037                                NaN  \n",
       "134309                      Voyager Books  \n",
       "173473             Red Tower Publications  \n",
       "195885                        HarperTorch  \n",
       "211874                  Worldwide Library  "
      ],
      "text/html": [
       "<div>\n",
       "<style scoped>\n",
       "    .dataframe tbody tr th:only-of-type {\n",
       "        vertical-align: middle;\n",
       "    }\n",
       "\n",
       "    .dataframe tbody tr th {\n",
       "        vertical-align: top;\n",
       "    }\n",
       "\n",
       "    .dataframe thead th {\n",
       "        text-align: right;\n",
       "    }\n",
       "</style>\n",
       "<table border=\"1\" class=\"dataframe\">\n",
       "  <thead>\n",
       "    <tr style=\"text-align: right;\">\n",
       "      <th></th>\n",
       "      <th>ISBN</th>\n",
       "      <th>bookTitle</th>\n",
       "      <th>bookAuthor</th>\n",
       "      <th>yearOfPublication</th>\n",
       "      <th>publisher</th>\n",
       "    </tr>\n",
       "  </thead>\n",
       "  <tbody>\n",
       "    <tr>\n",
       "      <th>10799</th>\n",
       "      <td>082177364X</td>\n",
       "      <td>Finders Keepers</td>\n",
       "      <td>Fern Michaels</td>\n",
       "      <td>2002</td>\n",
       "      <td>Zebra Books</td>\n",
       "    </tr>\n",
       "    <tr>\n",
       "      <th>42019</th>\n",
       "      <td>0070465037</td>\n",
       "      <td>Finders Keepers</td>\n",
       "      <td>Barbara Nickolae</td>\n",
       "      <td>1989</td>\n",
       "      <td>McGraw-Hill Companies</td>\n",
       "    </tr>\n",
       "    <tr>\n",
       "      <th>58264</th>\n",
       "      <td>0688118461</td>\n",
       "      <td>Finders Keepers</td>\n",
       "      <td>Emily Rodda</td>\n",
       "      <td>1993</td>\n",
       "      <td>Harpercollins Juvenile Books</td>\n",
       "    </tr>\n",
       "    <tr>\n",
       "      <th>66678</th>\n",
       "      <td>1575663236</td>\n",
       "      <td>Finders Keepers</td>\n",
       "      <td>Fern Michaels</td>\n",
       "      <td>1998</td>\n",
       "      <td>Kensington Publishing Corporation</td>\n",
       "    </tr>\n",
       "    <tr>\n",
       "      <th>129037</th>\n",
       "      <td>1931696993</td>\n",
       "      <td>Finders Keepers</td>\n",
       "      <td>Linnea Sinclair</td>\n",
       "      <td>2001</td>\n",
       "      <td>NaN</td>\n",
       "    </tr>\n",
       "    <tr>\n",
       "      <th>134309</th>\n",
       "      <td>0156309505</td>\n",
       "      <td>Finders Keepers</td>\n",
       "      <td>Will</td>\n",
       "      <td>1989</td>\n",
       "      <td>Voyager Books</td>\n",
       "    </tr>\n",
       "    <tr>\n",
       "      <th>173473</th>\n",
       "      <td>0973146907</td>\n",
       "      <td>Finders Keepers</td>\n",
       "      <td>Sean M. Costello</td>\n",
       "      <td>2002</td>\n",
       "      <td>Red Tower Publications</td>\n",
       "    </tr>\n",
       "    <tr>\n",
       "      <th>195885</th>\n",
       "      <td>0061083909</td>\n",
       "      <td>Finders Keepers</td>\n",
       "      <td>Sharon Sala</td>\n",
       "      <td>2003</td>\n",
       "      <td>HarperTorch</td>\n",
       "    </tr>\n",
       "    <tr>\n",
       "      <th>211874</th>\n",
       "      <td>0373261160</td>\n",
       "      <td>Finders Keepers</td>\n",
       "      <td>Elizabeth Travis</td>\n",
       "      <td>1993</td>\n",
       "      <td>Worldwide Library</td>\n",
       "    </tr>\n",
       "  </tbody>\n",
       "</table>\n",
       "</div>"
      ]
     },
     "execution_count": 70,
     "metadata": {},
     "output_type": "execute_result"
    }
   ],
   "execution_count": 70
  },
  {
   "metadata": {},
   "cell_type": "markdown",
   "source": "由图书作者检查以找到模式都有不同的出版商。这里没有线索",
   "id": "8eae7e94b60870d"
  },
  {
   "metadata": {
    "ExecuteTime": {
     "end_time": "2024-07-14T10:21:31.103391Z",
     "start_time": "2024-07-14T10:21:31.078519Z"
    }
   },
   "cell_type": "code",
   "source": "books.loc[(books.bookAuthor == 'Elaine Corvidae'),:]",
   "id": "1bf8020631d9b995",
   "outputs": [
    {
     "data": {
      "text/plain": [
       "              ISBN         bookTitle       bookAuthor  yearOfPublication  \\\n",
       "126762  1931696934  Winter's Orphans  Elaine Corvidae               2001   \n",
       "128890  193169656X       Tyrant Moon  Elaine Corvidae               2002   \n",
       "129001  0759901880           Wolfkin  Elaine Corvidae               2001   \n",
       "\n",
       "                      publisher  \n",
       "126762               Novelbooks  \n",
       "128890                      NaN  \n",
       "129001  Hard Shell Word Factory  "
      ],
      "text/html": [
       "<div>\n",
       "<style scoped>\n",
       "    .dataframe tbody tr th:only-of-type {\n",
       "        vertical-align: middle;\n",
       "    }\n",
       "\n",
       "    .dataframe tbody tr th {\n",
       "        vertical-align: top;\n",
       "    }\n",
       "\n",
       "    .dataframe thead th {\n",
       "        text-align: right;\n",
       "    }\n",
       "</style>\n",
       "<table border=\"1\" class=\"dataframe\">\n",
       "  <thead>\n",
       "    <tr style=\"text-align: right;\">\n",
       "      <th></th>\n",
       "      <th>ISBN</th>\n",
       "      <th>bookTitle</th>\n",
       "      <th>bookAuthor</th>\n",
       "      <th>yearOfPublication</th>\n",
       "      <th>publisher</th>\n",
       "    </tr>\n",
       "  </thead>\n",
       "  <tbody>\n",
       "    <tr>\n",
       "      <th>126762</th>\n",
       "      <td>1931696934</td>\n",
       "      <td>Winter's Orphans</td>\n",
       "      <td>Elaine Corvidae</td>\n",
       "      <td>2001</td>\n",
       "      <td>Novelbooks</td>\n",
       "    </tr>\n",
       "    <tr>\n",
       "      <th>128890</th>\n",
       "      <td>193169656X</td>\n",
       "      <td>Tyrant Moon</td>\n",
       "      <td>Elaine Corvidae</td>\n",
       "      <td>2002</td>\n",
       "      <td>NaN</td>\n",
       "    </tr>\n",
       "    <tr>\n",
       "      <th>129001</th>\n",
       "      <td>0759901880</td>\n",
       "      <td>Wolfkin</td>\n",
       "      <td>Elaine Corvidae</td>\n",
       "      <td>2001</td>\n",
       "      <td>Hard Shell Word Factory</td>\n",
       "    </tr>\n",
       "  </tbody>\n",
       "</table>\n",
       "</div>"
      ]
     },
     "execution_count": 71,
     "metadata": {},
     "output_type": "execute_result"
    }
   ],
   "execution_count": 71
  },
  {
   "metadata": {},
   "cell_type": "markdown",
   "source": "由图书作者检查以找到模式",
   "id": "c8b4dc519700d928"
  },
  {
   "metadata": {
    "ExecuteTime": {
     "end_time": "2024-07-14T10:21:31.128449Z",
     "start_time": "2024-07-14T10:21:31.104396Z"
    }
   },
   "cell_type": "code",
   "source": "books.loc[(books.bookAuthor == 'Linnea Sinclair'),:]",
   "id": "226831b523e071d2",
   "outputs": [
    {
     "data": {
      "text/plain": [
       "              ISBN        bookTitle       bookAuthor  yearOfPublication  \\\n",
       "129037  1931696993  Finders Keepers  Linnea Sinclair               2001   \n",
       "\n",
       "       publisher  \n",
       "129037       NaN  "
      ],
      "text/html": [
       "<div>\n",
       "<style scoped>\n",
       "    .dataframe tbody tr th:only-of-type {\n",
       "        vertical-align: middle;\n",
       "    }\n",
       "\n",
       "    .dataframe tbody tr th {\n",
       "        vertical-align: top;\n",
       "    }\n",
       "\n",
       "    .dataframe thead th {\n",
       "        text-align: right;\n",
       "    }\n",
       "</style>\n",
       "<table border=\"1\" class=\"dataframe\">\n",
       "  <thead>\n",
       "    <tr style=\"text-align: right;\">\n",
       "      <th></th>\n",
       "      <th>ISBN</th>\n",
       "      <th>bookTitle</th>\n",
       "      <th>bookAuthor</th>\n",
       "      <th>yearOfPublication</th>\n",
       "      <th>publisher</th>\n",
       "    </tr>\n",
       "  </thead>\n",
       "  <tbody>\n",
       "    <tr>\n",
       "      <th>129037</th>\n",
       "      <td>1931696993</td>\n",
       "      <td>Finders Keepers</td>\n",
       "      <td>Linnea Sinclair</td>\n",
       "      <td>2001</td>\n",
       "      <td>NaN</td>\n",
       "    </tr>\n",
       "  </tbody>\n",
       "</table>\n",
       "</div>"
      ]
     },
     "execution_count": 72,
     "metadata": {},
     "output_type": "execute_result"
    }
   ],
   "execution_count": 72
  },
  {
   "metadata": {},
   "cell_type": "markdown",
   "source": "因为没有什么共同的东西可以推断出 NaN 的发布者，将它们替换为 other",
   "id": "22a15d1a83812af7"
  },
  {
   "metadata": {
    "ExecuteTime": {
     "end_time": "2024-07-14T10:21:31.163526Z",
     "start_time": "2024-07-14T10:21:31.129480Z"
    }
   },
   "cell_type": "code",
   "source": [
    "books.loc[(books.ISBN == '193169656X'),'publisher'] = 'other'\n",
    "books.loc[(books.ISBN == '1931696993'),'publisher'] = 'other'"
   ],
   "id": "dd668c2cc1011a37",
   "outputs": [],
   "execution_count": 73
  },
  {
   "metadata": {},
   "cell_type": "markdown",
   "source": "现在我们探索用户数据集，首先检查其形状，前几列和数据类型",
   "id": "6fabc9434d410fba"
  },
  {
   "metadata": {
    "ExecuteTime": {
     "end_time": "2024-07-14T10:21:31.172819Z",
     "start_time": "2024-07-14T10:21:31.164609Z"
    }
   },
   "cell_type": "code",
   "source": [
    "print (users.shape)\n",
    "users.head()"
   ],
   "id": "7419dfa20343d301",
   "outputs": [
    {
     "name": "stdout",
     "output_type": "stream",
     "text": [
      "(278858, 3)\n"
     ]
    },
    {
     "data": {
      "text/plain": [
       "   userID                            Location   Age\n",
       "0       1                  nyc, new york, usa   NaN\n",
       "1       2           stockton, california, usa  18.0\n",
       "2       3     moscow, yukon territory, russia   NaN\n",
       "3       4           porto, v.n.gaia, portugal  17.0\n",
       "4       5  farnborough, hants, united kingdom   NaN"
      ],
      "text/html": [
       "<div>\n",
       "<style scoped>\n",
       "    .dataframe tbody tr th:only-of-type {\n",
       "        vertical-align: middle;\n",
       "    }\n",
       "\n",
       "    .dataframe tbody tr th {\n",
       "        vertical-align: top;\n",
       "    }\n",
       "\n",
       "    .dataframe thead th {\n",
       "        text-align: right;\n",
       "    }\n",
       "</style>\n",
       "<table border=\"1\" class=\"dataframe\">\n",
       "  <thead>\n",
       "    <tr style=\"text-align: right;\">\n",
       "      <th></th>\n",
       "      <th>userID</th>\n",
       "      <th>Location</th>\n",
       "      <th>Age</th>\n",
       "    </tr>\n",
       "  </thead>\n",
       "  <tbody>\n",
       "    <tr>\n",
       "      <th>0</th>\n",
       "      <td>1</td>\n",
       "      <td>nyc, new york, usa</td>\n",
       "      <td>NaN</td>\n",
       "    </tr>\n",
       "    <tr>\n",
       "      <th>1</th>\n",
       "      <td>2</td>\n",
       "      <td>stockton, california, usa</td>\n",
       "      <td>18.0</td>\n",
       "    </tr>\n",
       "    <tr>\n",
       "      <th>2</th>\n",
       "      <td>3</td>\n",
       "      <td>moscow, yukon territory, russia</td>\n",
       "      <td>NaN</td>\n",
       "    </tr>\n",
       "    <tr>\n",
       "      <th>3</th>\n",
       "      <td>4</td>\n",
       "      <td>porto, v.n.gaia, portugal</td>\n",
       "      <td>17.0</td>\n",
       "    </tr>\n",
       "    <tr>\n",
       "      <th>4</th>\n",
       "      <td>5</td>\n",
       "      <td>farnborough, hants, united kingdom</td>\n",
       "      <td>NaN</td>\n",
       "    </tr>\n",
       "  </tbody>\n",
       "</table>\n",
       "</div>"
      ]
     },
     "execution_count": 74,
     "metadata": {},
     "output_type": "execute_result"
    }
   ],
   "execution_count": 74
  },
  {
   "metadata": {
    "ExecuteTime": {
     "end_time": "2024-07-14T10:21:31.179625Z",
     "start_time": "2024-07-14T10:21:31.173826Z"
    }
   },
   "cell_type": "code",
   "source": "users.dtypes",
   "id": "6589818958d827c0",
   "outputs": [
    {
     "data": {
      "text/plain": [
       "userID        int64\n",
       "Location     object\n",
       "Age         float64\n",
       "dtype: object"
      ]
     },
     "execution_count": 75,
     "metadata": {},
     "output_type": "execute_result"
    }
   ],
   "execution_count": 75
  },
  {
   "metadata": {
    "ExecuteTime": {
     "end_time": "2024-07-14T10:21:31.184645Z",
     "start_time": "2024-07-14T10:21:31.180635Z"
    }
   },
   "cell_type": "code",
   "source": "users.userID.values",
   "id": "e89fa19580d39249",
   "outputs": [
    {
     "data": {
      "text/plain": [
       "array([     1,      2,      3, ..., 278856, 278857, 278858])"
      ]
     },
     "execution_count": 76,
     "metadata": {},
     "output_type": "execute_result"
    }
   ],
   "execution_count": 76
  },
  {
   "metadata": {
    "ExecuteTime": {
     "end_time": "2024-07-14T10:21:31.194163Z",
     "start_time": "2024-07-14T10:21:31.185653Z"
    }
   },
   "cell_type": "code",
   "source": "sorted(users.Age.unique())",
   "id": "152093e495123412",
   "outputs": [
    {
     "data": {
      "text/plain": [
       "[np.float64(nan),\n",
       " np.float64(0.0),\n",
       " np.float64(1.0),\n",
       " np.float64(2.0),\n",
       " np.float64(3.0),\n",
       " np.float64(4.0),\n",
       " np.float64(5.0),\n",
       " np.float64(6.0),\n",
       " np.float64(7.0),\n",
       " np.float64(8.0),\n",
       " np.float64(9.0),\n",
       " np.float64(10.0),\n",
       " np.float64(11.0),\n",
       " np.float64(12.0),\n",
       " np.float64(13.0),\n",
       " np.float64(14.0),\n",
       " np.float64(15.0),\n",
       " np.float64(16.0),\n",
       " np.float64(17.0),\n",
       " np.float64(18.0),\n",
       " np.float64(19.0),\n",
       " np.float64(20.0),\n",
       " np.float64(21.0),\n",
       " np.float64(22.0),\n",
       " np.float64(23.0),\n",
       " np.float64(24.0),\n",
       " np.float64(25.0),\n",
       " np.float64(26.0),\n",
       " np.float64(27.0),\n",
       " np.float64(28.0),\n",
       " np.float64(29.0),\n",
       " np.float64(30.0),\n",
       " np.float64(31.0),\n",
       " np.float64(32.0),\n",
       " np.float64(33.0),\n",
       " np.float64(34.0),\n",
       " np.float64(35.0),\n",
       " np.float64(36.0),\n",
       " np.float64(37.0),\n",
       " np.float64(38.0),\n",
       " np.float64(39.0),\n",
       " np.float64(40.0),\n",
       " np.float64(41.0),\n",
       " np.float64(42.0),\n",
       " np.float64(43.0),\n",
       " np.float64(44.0),\n",
       " np.float64(45.0),\n",
       " np.float64(46.0),\n",
       " np.float64(47.0),\n",
       " np.float64(48.0),\n",
       " np.float64(49.0),\n",
       " np.float64(50.0),\n",
       " np.float64(51.0),\n",
       " np.float64(52.0),\n",
       " np.float64(53.0),\n",
       " np.float64(54.0),\n",
       " np.float64(55.0),\n",
       " np.float64(56.0),\n",
       " np.float64(57.0),\n",
       " np.float64(58.0),\n",
       " np.float64(59.0),\n",
       " np.float64(60.0),\n",
       " np.float64(61.0),\n",
       " np.float64(62.0),\n",
       " np.float64(63.0),\n",
       " np.float64(64.0),\n",
       " np.float64(65.0),\n",
       " np.float64(66.0),\n",
       " np.float64(67.0),\n",
       " np.float64(68.0),\n",
       " np.float64(69.0),\n",
       " np.float64(70.0),\n",
       " np.float64(71.0),\n",
       " np.float64(72.0),\n",
       " np.float64(73.0),\n",
       " np.float64(74.0),\n",
       " np.float64(75.0),\n",
       " np.float64(76.0),\n",
       " np.float64(77.0),\n",
       " np.float64(78.0),\n",
       " np.float64(79.0),\n",
       " np.float64(80.0),\n",
       " np.float64(81.0),\n",
       " np.float64(82.0),\n",
       " np.float64(83.0),\n",
       " np.float64(84.0),\n",
       " np.float64(85.0),\n",
       " np.float64(86.0),\n",
       " np.float64(87.0),\n",
       " np.float64(88.0),\n",
       " np.float64(89.0),\n",
       " np.float64(90.0),\n",
       " np.float64(91.0),\n",
       " np.float64(92.0),\n",
       " np.float64(93.0),\n",
       " np.float64(94.0),\n",
       " np.float64(95.0),\n",
       " np.float64(96.0),\n",
       " np.float64(97.0),\n",
       " np.float64(98.0),\n",
       " np.float64(99.0),\n",
       " np.float64(100.0),\n",
       " np.float64(101.0),\n",
       " np.float64(102.0),\n",
       " np.float64(103.0),\n",
       " np.float64(104.0),\n",
       " np.float64(105.0),\n",
       " np.float64(106.0),\n",
       " np.float64(107.0),\n",
       " np.float64(108.0),\n",
       " np.float64(109.0),\n",
       " np.float64(110.0),\n",
       " np.float64(111.0),\n",
       " np.float64(113.0),\n",
       " np.float64(114.0),\n",
       " np.float64(115.0),\n",
       " np.float64(116.0),\n",
       " np.float64(118.0),\n",
       " np.float64(119.0),\n",
       " np.float64(123.0),\n",
       " np.float64(124.0),\n",
       " np.float64(127.0),\n",
       " np.float64(128.0),\n",
       " np.float64(132.0),\n",
       " np.float64(133.0),\n",
       " np.float64(136.0),\n",
       " np.float64(137.0),\n",
       " np.float64(138.0),\n",
       " np.float64(140.0),\n",
       " np.float64(141.0),\n",
       " np.float64(143.0),\n",
       " np.float64(146.0),\n",
       " np.float64(147.0),\n",
       " np.float64(148.0),\n",
       " np.float64(151.0),\n",
       " np.float64(152.0),\n",
       " np.float64(156.0),\n",
       " np.float64(157.0),\n",
       " np.float64(159.0),\n",
       " np.float64(162.0),\n",
       " np.float64(168.0),\n",
       " np.float64(172.0),\n",
       " np.float64(175.0),\n",
       " np.float64(183.0),\n",
       " np.float64(186.0),\n",
       " np.float64(189.0),\n",
       " np.float64(199.0),\n",
       " np.float64(200.0),\n",
       " np.float64(201.0),\n",
       " np.float64(204.0),\n",
       " np.float64(207.0),\n",
       " np.float64(208.0),\n",
       " np.float64(209.0),\n",
       " np.float64(210.0),\n",
       " np.float64(212.0),\n",
       " np.float64(219.0),\n",
       " np.float64(220.0),\n",
       " np.float64(223.0),\n",
       " np.float64(226.0),\n",
       " np.float64(228.0),\n",
       " np.float64(229.0),\n",
       " np.float64(230.0),\n",
       " np.float64(231.0),\n",
       " np.float64(237.0),\n",
       " np.float64(239.0),\n",
       " np.float64(244.0)]"
      ]
     },
     "execution_count": 77,
     "metadata": {},
     "output_type": "execute_result"
    }
   ],
   "execution_count": 77
  },
  {
   "metadata": {},
   "cell_type": "markdown",
   "source": "检查唯一值后，userID 看起来正确。但是，Age 列具有 NaN 和一些非常高的值。在我看来，5 岁以下和 90 岁以上的年龄没有多大意义，因此，这些正在被 NaN 取代。然后将所有 NaN 替换为 Age 的平均值，并将其数据类型设置为 int",
   "id": "d86c61802c009c6b"
  },
  {
   "metadata": {
    "ExecuteTime": {
     "end_time": "2024-07-14T10:21:31.200711Z",
     "start_time": "2024-07-14T10:21:31.195687Z"
    }
   },
   "cell_type": "code",
   "source": "users.loc[(users.Age > 90) | (users.Age < 5), 'Age'] = np.nan",
   "id": "7368060857821dc8",
   "outputs": [],
   "execution_count": 78
  },
  {
   "metadata": {},
   "cell_type": "markdown",
   "source": "用平均值代替 NaN",
   "id": "aadd6b65a0239021"
  },
  {
   "metadata": {
    "ExecuteTime": {
     "end_time": "2024-07-14T10:21:31.209922Z",
     "start_time": "2024-07-14T10:21:31.201719Z"
    }
   },
   "cell_type": "code",
   "source": "users.Age = users.Age.fillna(users.Age.mean())",
   "id": "f26cd9aa2577c21c",
   "outputs": [],
   "execution_count": 79
  },
  {
   "metadata": {},
   "cell_type": "markdown",
   "source": "将数据类型设置为 int",
   "id": "a7eb76d5a3d4cb1f"
  },
  {
   "metadata": {
    "ExecuteTime": {
     "end_time": "2024-07-14T10:21:31.219267Z",
     "start_time": "2024-07-14T10:21:31.210927Z"
    }
   },
   "cell_type": "code",
   "source": [
    "users.Age = users.Age.astype(np.int32)\n",
    "sorted(users.Age.unique())"
   ],
   "id": "5bf28dd42402a7f5",
   "outputs": [
    {
     "data": {
      "text/plain": [
       "[np.int32(5),\n",
       " np.int32(6),\n",
       " np.int32(7),\n",
       " np.int32(8),\n",
       " np.int32(9),\n",
       " np.int32(10),\n",
       " np.int32(11),\n",
       " np.int32(12),\n",
       " np.int32(13),\n",
       " np.int32(14),\n",
       " np.int32(15),\n",
       " np.int32(16),\n",
       " np.int32(17),\n",
       " np.int32(18),\n",
       " np.int32(19),\n",
       " np.int32(20),\n",
       " np.int32(21),\n",
       " np.int32(22),\n",
       " np.int32(23),\n",
       " np.int32(24),\n",
       " np.int32(25),\n",
       " np.int32(26),\n",
       " np.int32(27),\n",
       " np.int32(28),\n",
       " np.int32(29),\n",
       " np.int32(30),\n",
       " np.int32(31),\n",
       " np.int32(32),\n",
       " np.int32(33),\n",
       " np.int32(34),\n",
       " np.int32(35),\n",
       " np.int32(36),\n",
       " np.int32(37),\n",
       " np.int32(38),\n",
       " np.int32(39),\n",
       " np.int32(40),\n",
       " np.int32(41),\n",
       " np.int32(42),\n",
       " np.int32(43),\n",
       " np.int32(44),\n",
       " np.int32(45),\n",
       " np.int32(46),\n",
       " np.int32(47),\n",
       " np.int32(48),\n",
       " np.int32(49),\n",
       " np.int32(50),\n",
       " np.int32(51),\n",
       " np.int32(52),\n",
       " np.int32(53),\n",
       " np.int32(54),\n",
       " np.int32(55),\n",
       " np.int32(56),\n",
       " np.int32(57),\n",
       " np.int32(58),\n",
       " np.int32(59),\n",
       " np.int32(60),\n",
       " np.int32(61),\n",
       " np.int32(62),\n",
       " np.int32(63),\n",
       " np.int32(64),\n",
       " np.int32(65),\n",
       " np.int32(66),\n",
       " np.int32(67),\n",
       " np.int32(68),\n",
       " np.int32(69),\n",
       " np.int32(70),\n",
       " np.int32(71),\n",
       " np.int32(72),\n",
       " np.int32(73),\n",
       " np.int32(74),\n",
       " np.int32(75),\n",
       " np.int32(76),\n",
       " np.int32(77),\n",
       " np.int32(78),\n",
       " np.int32(79),\n",
       " np.int32(80),\n",
       " np.int32(81),\n",
       " np.int32(82),\n",
       " np.int32(83),\n",
       " np.int32(84),\n",
       " np.int32(85),\n",
       " np.int32(86),\n",
       " np.int32(87),\n",
       " np.int32(88),\n",
       " np.int32(89),\n",
       " np.int32(90)]"
      ]
     },
     "execution_count": 80,
     "metadata": {},
     "output_type": "execute_result"
    }
   ],
   "execution_count": 80
  },
  {
   "metadata": {},
   "cell_type": "markdown",
   "source": "我这里没有对 Location 列进行任何处理。但是，如果您希望可以进一步将其拆分为城市，州，国家，并使用文本处理模型进行一些处理。",
   "id": "86e52674220e3e5b"
  },
  {
   "metadata": {},
   "cell_type": "markdown",
   "source": [
    "评级数据集\n",
    "我们检查评级数据集的形状和前几行。它揭示了我们的用户手册评级矩阵将非常稀疏，因为与评级矩阵的大小（用户数量×书籍数量）相比，实际评级非常低。"
   ],
   "id": "129403f409d06e5a"
  },
  {
   "metadata": {
    "ExecuteTime": {
     "end_time": "2024-07-14T10:21:31.224565Z",
     "start_time": "2024-07-14T10:21:31.220292Z"
    }
   },
   "cell_type": "code",
   "source": "ratings.shape",
   "id": "ade0e6c0a49a5328",
   "outputs": [
    {
     "data": {
      "text/plain": [
       "(1149780, 3)"
      ]
     },
     "execution_count": 81,
     "metadata": {},
     "output_type": "execute_result"
    }
   ],
   "execution_count": 81
  },
  {
   "metadata": {},
   "cell_type": "markdown",
   "source": "如果每个用户对每个条目进行评级，那么评级数据集将有 nusers * nbooks 条目，这表明数据集非常稀疏。",
   "id": "c3f68ea104911b4e"
  },
  {
   "metadata": {
    "ExecuteTime": {
     "end_time": "2024-07-14T10:21:31.229081Z",
     "start_time": "2024-07-14T10:21:31.225588Z"
    }
   },
   "cell_type": "code",
   "source": [
    "n_users = users.shape[0]\n",
    "n_books = books.shape[0]\n",
    "print (n_users * n_books)"
   ],
   "id": "262c6be8cc128abc",
   "outputs": [
    {
     "name": "stdout",
     "output_type": "stream",
     "text": [
      "75670906880\n"
     ]
    }
   ],
   "execution_count": 82
  },
  {
   "metadata": {
    "ExecuteTime": {
     "end_time": "2024-07-14T10:21:31.237890Z",
     "start_time": "2024-07-14T10:21:31.232086Z"
    }
   },
   "cell_type": "code",
   "source": "ratings.head(5)",
   "id": "bf63df3f900dffe7",
   "outputs": [
    {
     "data": {
      "text/plain": [
       "   userID        ISBN  bookRating\n",
       "0  276725  034545104X           0\n",
       "1  276726  0155061224           5\n",
       "2  276727  0446520802           0\n",
       "3  276729  052165615X           3\n",
       "4  276729  0521795028           6"
      ],
      "text/html": [
       "<div>\n",
       "<style scoped>\n",
       "    .dataframe tbody tr th:only-of-type {\n",
       "        vertical-align: middle;\n",
       "    }\n",
       "\n",
       "    .dataframe tbody tr th {\n",
       "        vertical-align: top;\n",
       "    }\n",
       "\n",
       "    .dataframe thead th {\n",
       "        text-align: right;\n",
       "    }\n",
       "</style>\n",
       "<table border=\"1\" class=\"dataframe\">\n",
       "  <thead>\n",
       "    <tr style=\"text-align: right;\">\n",
       "      <th></th>\n",
       "      <th>userID</th>\n",
       "      <th>ISBN</th>\n",
       "      <th>bookRating</th>\n",
       "    </tr>\n",
       "  </thead>\n",
       "  <tbody>\n",
       "    <tr>\n",
       "      <th>0</th>\n",
       "      <td>276725</td>\n",
       "      <td>034545104X</td>\n",
       "      <td>0</td>\n",
       "    </tr>\n",
       "    <tr>\n",
       "      <th>1</th>\n",
       "      <td>276726</td>\n",
       "      <td>0155061224</td>\n",
       "      <td>5</td>\n",
       "    </tr>\n",
       "    <tr>\n",
       "      <th>2</th>\n",
       "      <td>276727</td>\n",
       "      <td>0446520802</td>\n",
       "      <td>0</td>\n",
       "    </tr>\n",
       "    <tr>\n",
       "      <th>3</th>\n",
       "      <td>276729</td>\n",
       "      <td>052165615X</td>\n",
       "      <td>3</td>\n",
       "    </tr>\n",
       "    <tr>\n",
       "      <th>4</th>\n",
       "      <td>276729</td>\n",
       "      <td>0521795028</td>\n",
       "      <td>6</td>\n",
       "    </tr>\n",
       "  </tbody>\n",
       "</table>\n",
       "</div>"
      ]
     },
     "execution_count": 83,
     "metadata": {},
     "output_type": "execute_result"
    }
   ],
   "execution_count": 83
  },
  {
   "metadata": {
    "ExecuteTime": {
     "end_time": "2024-07-14T10:21:31.251330Z",
     "start_time": "2024-07-14T10:21:31.238895Z"
    }
   },
   "cell_type": "code",
   "source": "ratings.bookRating.unique()",
   "id": "291e0c87235614d8",
   "outputs": [
    {
     "data": {
      "text/plain": [
       "array([ 0,  5,  3,  6,  8,  7, 10,  9,  4,  1,  2])"
      ]
     },
     "execution_count": 84,
     "metadata": {},
     "output_type": "execute_result"
    }
   ],
   "execution_count": 84
  },
  {
   "metadata": {},
   "cell_type": "markdown",
   "source": "除非将新书添加到图书数据集中，否则评级数据集应该只存在于我们的图书数据集里的书籍。",
   "id": "1b6d91c6e389dd0b"
  },
  {
   "metadata": {
    "ExecuteTime": {
     "end_time": "2024-07-14T10:21:31.611141Z",
     "start_time": "2024-07-14T10:21:31.252338Z"
    }
   },
   "cell_type": "code",
   "source": [
    "ratings_new = ratings[ratings.ISBN.isin(books.ISBN)]\n",
    "print (ratings.shape)\n",
    "print (ratings_new.shape)"
   ],
   "id": "132179bf2f2e62a0",
   "outputs": [
    {
     "name": "stdout",
     "output_type": "stream",
     "text": [
      "(1149780, 3)\n",
      "(1031136, 3)\n"
     ]
    }
   ],
   "execution_count": 85
  },
  {
   "metadata": {},
   "cell_type": "markdown",
   "source": "可以看到，有许多行，有图书 ISBN，而不是书籍数据集的一部分被删除了，除非新用户被添加到用户数据集，否则评级数据集应该有来自用户数据集的用户的评级。",
   "id": "6f1d32e4a6af223e"
  },
  {
   "metadata": {
    "ExecuteTime": {
     "end_time": "2024-07-14T10:21:31.642837Z",
     "start_time": "2024-07-14T10:21:31.612148Z"
    }
   },
   "cell_type": "code",
   "source": [
    "ratings = ratings[ratings.userID.isin(users.userID)]\n",
    "print (ratings.shape)\n",
    "print (ratings_new.shape)"
   ],
   "id": "fcac237d22103806",
   "outputs": [
    {
     "name": "stdout",
     "output_type": "stream",
     "text": [
      "(1149780, 3)\n",
      "(1031136, 3)\n"
     ]
    }
   ],
   "execution_count": 86
  },
  {
   "metadata": {},
   "cell_type": "markdown",
   "source": "没有新用户添加，因此我们将使用高于数据集的新用户（1031136，3）",
   "id": "36090716fec9dd6"
  },
  {
   "metadata": {
    "ExecuteTime": {
     "end_time": "2024-07-14T10:21:31.648418Z",
     "start_time": "2024-07-14T10:21:31.643843Z"
    }
   },
   "cell_type": "code",
   "source": [
    "print (\"number of users: \" + str(n_users))\n",
    "print (\"number of books: \" + str(n_books))"
   ],
   "id": "9a140c7a4438ad5c",
   "outputs": [
    {
     "name": "stdout",
     "output_type": "stream",
     "text": [
      "number of users: 278858\n",
      "number of books: 271360\n"
     ]
    }
   ],
   "execution_count": 87
  },
  {
   "metadata": {},
   "cell_type": "markdown",
   "source": "很明显，用户已经评价了一些书籍，这些书籍不是原始书籍数据集的一部分。数据集的稀疏度可以如下计算：",
   "id": "2ffc774f3d672d50"
  },
  {
   "metadata": {
    "ExecuteTime": {
     "end_time": "2024-07-14T10:21:31.656803Z",
     "start_time": "2024-07-14T10:21:31.649434Z"
    }
   },
   "cell_type": "code",
   "source": [
    "sparsity=1.0-len(ratings_new)/float(n_users*n_books)\n",
    "print ('图书交叉数据集的稀疏级别是 ' +  str(sparsity*100) + ' %')"
   ],
   "id": "aea1804ed1590855",
   "outputs": [
    {
     "name": "stdout",
     "output_type": "stream",
     "text": [
      "图书交叉数据集的稀疏级别是 99.99863734155898 %\n"
     ]
    }
   ],
   "execution_count": 88
  },
  {
   "metadata": {},
   "cell_type": "markdown",
   "source": "由 1-10 表示的显式评级和由 0 表示的隐含评级现在必须分开。我们将仅使用明确的评级来构建我们的图书推荐系统。同样，用户也被分为明确评级的人和记录其隐性行为的人。",
   "id": "55cf6a23f7f76384"
  },
  {
   "metadata": {
    "ExecuteTime": {
     "end_time": "2024-07-14T10:21:31.671511Z",
     "start_time": "2024-07-14T10:21:31.657838Z"
    }
   },
   "cell_type": "code",
   "source": "ratings.bookRating.unique()",
   "id": "938b0f40698682d8",
   "outputs": [
    {
     "data": {
      "text/plain": [
       "array([ 0,  5,  3,  6,  8,  7, 10,  9,  4,  1,  2])"
      ]
     },
     "execution_count": 89,
     "metadata": {},
     "output_type": "execute_result"
    }
   ],
   "execution_count": 89
  },
  {
   "metadata": {},
   "cell_type": "markdown",
   "source": "因此，对隐式和显式的评级数据集进行了划分",
   "id": "7f19cbecaefe7dcf"
  },
  {
   "metadata": {
    "ExecuteTime": {
     "end_time": "2024-07-14T10:21:31.730959Z",
     "start_time": "2024-07-14T10:21:31.673518Z"
    }
   },
   "cell_type": "code",
   "source": [
    "ratings_explicit = ratings_new[ratings_new.bookRating != 0]\n",
    "ratings_implicit = ratings_new[ratings_new.bookRating == 0]\n",
    "print (ratings_new.shape)\n",
    "print( ratings_explicit.shape)\n",
    "print (ratings_implicit.shape)"
   ],
   "id": "f851b4dfff3e44d6",
   "outputs": [
    {
     "name": "stdout",
     "output_type": "stream",
     "text": [
      "(1031136, 3)\n",
      "(383842, 3)\n",
      "(647294, 3)\n"
     ]
    }
   ],
   "execution_count": 90
  },
  {
   "metadata": {},
   "cell_type": "markdown",
   "source": "统计 bookRating 的计数图表示更高的评级在用户中更常见，评级 8 的评级最高。",
   "id": "3d27247d356f8542"
  },
  {
   "metadata": {
    "ExecuteTime": {
     "end_time": "2024-07-14T10:21:32.775025Z",
     "start_time": "2024-07-14T10:21:31.981167Z"
    }
   },
   "cell_type": "code",
   "source": [
    "from matplotlib import pyplot as plt\n",
    "import seaborn as sns\n",
    "\n",
    "sns.countplot(data=ratings_explicit , x='bookRating')\n",
    "plt.show()"
   ],
   "id": "d8bd218f913d35d1",
   "outputs": [
    {
     "ename": "ValueError",
     "evalue": "numpy.dtype size changed, may indicate binary incompatibility. Expected 96 from C header, got 88 from PyObject",
     "output_type": "error",
     "traceback": [
      "\u001B[1;31m---------------------------------------------------------------------------\u001B[0m",
      "\u001B[1;31mValueError\u001B[0m                                Traceback (most recent call last)",
      "Cell \u001B[1;32mIn[91], line 2\u001B[0m\n\u001B[0;32m      1\u001B[0m \u001B[38;5;28;01mfrom\u001B[39;00m \u001B[38;5;21;01mmatplotlib\u001B[39;00m \u001B[38;5;28;01mimport\u001B[39;00m pyplot \u001B[38;5;28;01mas\u001B[39;00m plt\n\u001B[1;32m----> 2\u001B[0m \u001B[38;5;28;01mimport\u001B[39;00m \u001B[38;5;21;01mseaborn\u001B[39;00m \u001B[38;5;28;01mas\u001B[39;00m \u001B[38;5;21;01msns\u001B[39;00m\n\u001B[0;32m      4\u001B[0m sns\u001B[38;5;241m.\u001B[39mcountplot(data\u001B[38;5;241m=\u001B[39mratings_explicit , x\u001B[38;5;241m=\u001B[39m\u001B[38;5;124m'\u001B[39m\u001B[38;5;124mbookRating\u001B[39m\u001B[38;5;124m'\u001B[39m)\n\u001B[0;32m      5\u001B[0m plt\u001B[38;5;241m.\u001B[39mshow()\n",
      "File \u001B[1;32m~\\PycharmProjects\\jzxy-book-recommend\\.venv\\Lib\\site-packages\\seaborn\\__init__.py:5\u001B[0m\n\u001B[0;32m      3\u001B[0m \u001B[38;5;28;01mfrom\u001B[39;00m \u001B[38;5;21;01m.\u001B[39;00m\u001B[38;5;21;01mutils\u001B[39;00m \u001B[38;5;28;01mimport\u001B[39;00m \u001B[38;5;241m*\u001B[39m  \u001B[38;5;66;03m# noqa: F401,F403\u001B[39;00m\n\u001B[0;32m      4\u001B[0m \u001B[38;5;28;01mfrom\u001B[39;00m \u001B[38;5;21;01m.\u001B[39;00m\u001B[38;5;21;01mpalettes\u001B[39;00m \u001B[38;5;28;01mimport\u001B[39;00m \u001B[38;5;241m*\u001B[39m  \u001B[38;5;66;03m# noqa: F401,F403\u001B[39;00m\n\u001B[1;32m----> 5\u001B[0m \u001B[38;5;28;01mfrom\u001B[39;00m \u001B[38;5;21;01m.\u001B[39;00m\u001B[38;5;21;01mrelational\u001B[39;00m \u001B[38;5;28;01mimport\u001B[39;00m \u001B[38;5;241m*\u001B[39m  \u001B[38;5;66;03m# noqa: F401,F403\u001B[39;00m\n\u001B[0;32m      6\u001B[0m \u001B[38;5;28;01mfrom\u001B[39;00m \u001B[38;5;21;01m.\u001B[39;00m\u001B[38;5;21;01mregression\u001B[39;00m \u001B[38;5;28;01mimport\u001B[39;00m \u001B[38;5;241m*\u001B[39m  \u001B[38;5;66;03m# noqa: F401,F403\u001B[39;00m\n\u001B[0;32m      7\u001B[0m \u001B[38;5;28;01mfrom\u001B[39;00m \u001B[38;5;21;01m.\u001B[39;00m\u001B[38;5;21;01mcategorical\u001B[39;00m \u001B[38;5;28;01mimport\u001B[39;00m \u001B[38;5;241m*\u001B[39m  \u001B[38;5;66;03m# noqa: F401,F403\u001B[39;00m\n",
      "File \u001B[1;32m~\\PycharmProjects\\jzxy-book-recommend\\.venv\\Lib\\site-packages\\seaborn\\relational.py:21\u001B[0m\n\u001B[0;32m     13\u001B[0m \u001B[38;5;28;01mfrom\u001B[39;00m \u001B[38;5;21;01m.\u001B[39;00m\u001B[38;5;21;01mutils\u001B[39;00m \u001B[38;5;28;01mimport\u001B[39;00m (\n\u001B[0;32m     14\u001B[0m     adjust_legend_subtitles,\n\u001B[0;32m     15\u001B[0m     _default_color,\n\u001B[1;32m   (...)\u001B[0m\n\u001B[0;32m     18\u001B[0m     _scatter_legend_artist,\n\u001B[0;32m     19\u001B[0m )\n\u001B[0;32m     20\u001B[0m \u001B[38;5;28;01mfrom\u001B[39;00m \u001B[38;5;21;01m.\u001B[39;00m\u001B[38;5;21;01m_compat\u001B[39;00m \u001B[38;5;28;01mimport\u001B[39;00m groupby_apply_include_groups\n\u001B[1;32m---> 21\u001B[0m \u001B[38;5;28;01mfrom\u001B[39;00m \u001B[38;5;21;01m.\u001B[39;00m\u001B[38;5;21;01m_statistics\u001B[39;00m \u001B[38;5;28;01mimport\u001B[39;00m EstimateAggregator, WeightedAggregator\n\u001B[0;32m     22\u001B[0m \u001B[38;5;28;01mfrom\u001B[39;00m \u001B[38;5;21;01m.\u001B[39;00m\u001B[38;5;21;01maxisgrid\u001B[39;00m \u001B[38;5;28;01mimport\u001B[39;00m FacetGrid, _facet_docs\n\u001B[0;32m     23\u001B[0m \u001B[38;5;28;01mfrom\u001B[39;00m \u001B[38;5;21;01m.\u001B[39;00m\u001B[38;5;21;01m_docstrings\u001B[39;00m \u001B[38;5;28;01mimport\u001B[39;00m DocstringComponents, _core_docs\n",
      "File \u001B[1;32m~\\PycharmProjects\\jzxy-book-recommend\\.venv\\Lib\\site-packages\\seaborn\\_statistics.py:32\u001B[0m\n\u001B[0;32m     30\u001B[0m \u001B[38;5;28;01mimport\u001B[39;00m \u001B[38;5;21;01mpandas\u001B[39;00m \u001B[38;5;28;01mas\u001B[39;00m \u001B[38;5;21;01mpd\u001B[39;00m\n\u001B[0;32m     31\u001B[0m \u001B[38;5;28;01mtry\u001B[39;00m:\n\u001B[1;32m---> 32\u001B[0m     \u001B[38;5;28;01mfrom\u001B[39;00m \u001B[38;5;21;01mscipy\u001B[39;00m\u001B[38;5;21;01m.\u001B[39;00m\u001B[38;5;21;01mstats\u001B[39;00m \u001B[38;5;28;01mimport\u001B[39;00m gaussian_kde\n\u001B[0;32m     33\u001B[0m     _no_scipy \u001B[38;5;241m=\u001B[39m \u001B[38;5;28;01mFalse\u001B[39;00m\n\u001B[0;32m     34\u001B[0m \u001B[38;5;28;01mexcept\u001B[39;00m \u001B[38;5;167;01mImportError\u001B[39;00m:\n",
      "File \u001B[1;32m~\\PycharmProjects\\jzxy-book-recommend\\.venv\\Lib\\site-packages\\scipy\\stats\\__init__.py:605\u001B[0m\n\u001B[0;32m      1\u001B[0m \u001B[38;5;124;03m\"\"\"\u001B[39;00m\n\u001B[0;32m      2\u001B[0m \u001B[38;5;124;03m.. _statsrefmanual:\u001B[39;00m\n\u001B[0;32m      3\u001B[0m \n\u001B[1;32m   (...)\u001B[0m\n\u001B[0;32m    600\u001B[0m \n\u001B[0;32m    601\u001B[0m \u001B[38;5;124;03m\"\"\"\u001B[39;00m  \u001B[38;5;66;03m# noqa: E501\u001B[39;00m\n\u001B[0;32m    603\u001B[0m \u001B[38;5;28;01mfrom\u001B[39;00m \u001B[38;5;21;01m.\u001B[39;00m\u001B[38;5;21;01m_warnings_errors\u001B[39;00m \u001B[38;5;28;01mimport\u001B[39;00m (ConstantInputWarning, NearConstantInputWarning,\n\u001B[0;32m    604\u001B[0m                                DegenerateDataWarning, FitError)\n\u001B[1;32m--> 605\u001B[0m \u001B[38;5;28;01mfrom\u001B[39;00m \u001B[38;5;21;01m.\u001B[39;00m\u001B[38;5;21;01m_stats_py\u001B[39;00m \u001B[38;5;28;01mimport\u001B[39;00m \u001B[38;5;241m*\u001B[39m\n\u001B[0;32m    606\u001B[0m \u001B[38;5;28;01mfrom\u001B[39;00m \u001B[38;5;21;01m.\u001B[39;00m\u001B[38;5;21;01m_variation\u001B[39;00m \u001B[38;5;28;01mimport\u001B[39;00m variation\n\u001B[0;32m    607\u001B[0m \u001B[38;5;28;01mfrom\u001B[39;00m \u001B[38;5;21;01m.\u001B[39;00m\u001B[38;5;21;01mdistributions\u001B[39;00m \u001B[38;5;28;01mimport\u001B[39;00m \u001B[38;5;241m*\u001B[39m\n",
      "File \u001B[1;32m~\\PycharmProjects\\jzxy-book-recommend\\.venv\\Lib\\site-packages\\scipy\\stats\\_stats_py.py:37\u001B[0m\n\u001B[0;32m     34\u001B[0m \u001B[38;5;28;01mimport\u001B[39;00m \u001B[38;5;21;01mnumpy\u001B[39;00m \u001B[38;5;28;01mas\u001B[39;00m \u001B[38;5;21;01mnp\u001B[39;00m\n\u001B[0;32m     35\u001B[0m \u001B[38;5;28;01mfrom\u001B[39;00m \u001B[38;5;21;01mnumpy\u001B[39;00m \u001B[38;5;28;01mimport\u001B[39;00m array, asarray, ma\n\u001B[1;32m---> 37\u001B[0m \u001B[38;5;28;01mfrom\u001B[39;00m \u001B[38;5;21;01mscipy\u001B[39;00m\u001B[38;5;21;01m.\u001B[39;00m\u001B[38;5;21;01mspatial\u001B[39;00m\u001B[38;5;21;01m.\u001B[39;00m\u001B[38;5;21;01mdistance\u001B[39;00m \u001B[38;5;28;01mimport\u001B[39;00m cdist\n\u001B[0;32m     38\u001B[0m \u001B[38;5;28;01mfrom\u001B[39;00m \u001B[38;5;21;01mscipy\u001B[39;00m\u001B[38;5;21;01m.\u001B[39;00m\u001B[38;5;21;01mndimage\u001B[39;00m \u001B[38;5;28;01mimport\u001B[39;00m _measurements\n\u001B[0;32m     39\u001B[0m \u001B[38;5;28;01mfrom\u001B[39;00m \u001B[38;5;21;01mscipy\u001B[39;00m\u001B[38;5;21;01m.\u001B[39;00m\u001B[38;5;21;01m_lib\u001B[39;00m\u001B[38;5;21;01m.\u001B[39;00m\u001B[38;5;21;01m_util\u001B[39;00m \u001B[38;5;28;01mimport\u001B[39;00m (check_random_state, MapWrapper, _get_nan,\n\u001B[0;32m     40\u001B[0m                               rng_integers, _rename_parameter, _contains_nan,\n\u001B[0;32m     41\u001B[0m                               AxisError)\n",
      "File \u001B[1;32m~\\PycharmProjects\\jzxy-book-recommend\\.venv\\Lib\\site-packages\\scipy\\spatial\\__init__.py:110\u001B[0m\n\u001B[0;32m      1\u001B[0m \u001B[38;5;124;03m\"\"\"\u001B[39;00m\n\u001B[0;32m      2\u001B[0m \u001B[38;5;124;03m=============================================================\u001B[39;00m\n\u001B[0;32m      3\u001B[0m \u001B[38;5;124;03mSpatial algorithms and data structures (:mod:`scipy.spatial`)\u001B[39;00m\n\u001B[1;32m   (...)\u001B[0m\n\u001B[0;32m    107\u001B[0m \u001B[38;5;124;03m   QhullError\u001B[39;00m\n\u001B[0;32m    108\u001B[0m \u001B[38;5;124;03m\"\"\"\u001B[39;00m  \u001B[38;5;66;03m# noqa: E501\u001B[39;00m\n\u001B[1;32m--> 110\u001B[0m \u001B[38;5;28;01mfrom\u001B[39;00m \u001B[38;5;21;01m.\u001B[39;00m\u001B[38;5;21;01m_kdtree\u001B[39;00m \u001B[38;5;28;01mimport\u001B[39;00m \u001B[38;5;241m*\u001B[39m\n\u001B[0;32m    111\u001B[0m \u001B[38;5;28;01mfrom\u001B[39;00m \u001B[38;5;21;01m.\u001B[39;00m\u001B[38;5;21;01m_ckdtree\u001B[39;00m \u001B[38;5;28;01mimport\u001B[39;00m \u001B[38;5;241m*\u001B[39m\n\u001B[0;32m    112\u001B[0m \u001B[38;5;28;01mfrom\u001B[39;00m \u001B[38;5;21;01m.\u001B[39;00m\u001B[38;5;21;01m_qhull\u001B[39;00m \u001B[38;5;28;01mimport\u001B[39;00m \u001B[38;5;241m*\u001B[39m\n",
      "File \u001B[1;32m~\\PycharmProjects\\jzxy-book-recommend\\.venv\\Lib\\site-packages\\scipy\\spatial\\_kdtree.py:4\u001B[0m\n\u001B[0;32m      1\u001B[0m \u001B[38;5;66;03m# Copyright Anne M. Archibald 2008\u001B[39;00m\n\u001B[0;32m      2\u001B[0m \u001B[38;5;66;03m# Released under the scipy license\u001B[39;00m\n\u001B[0;32m      3\u001B[0m \u001B[38;5;28;01mimport\u001B[39;00m \u001B[38;5;21;01mnumpy\u001B[39;00m \u001B[38;5;28;01mas\u001B[39;00m \u001B[38;5;21;01mnp\u001B[39;00m\n\u001B[1;32m----> 4\u001B[0m \u001B[38;5;28;01mfrom\u001B[39;00m \u001B[38;5;21;01m.\u001B[39;00m\u001B[38;5;21;01m_ckdtree\u001B[39;00m \u001B[38;5;28;01mimport\u001B[39;00m cKDTree, cKDTreeNode\n\u001B[0;32m      6\u001B[0m __all__ \u001B[38;5;241m=\u001B[39m [\u001B[38;5;124m'\u001B[39m\u001B[38;5;124mminkowski_distance_p\u001B[39m\u001B[38;5;124m'\u001B[39m, \u001B[38;5;124m'\u001B[39m\u001B[38;5;124mminkowski_distance\u001B[39m\u001B[38;5;124m'\u001B[39m,\n\u001B[0;32m      7\u001B[0m            \u001B[38;5;124m'\u001B[39m\u001B[38;5;124mdistance_matrix\u001B[39m\u001B[38;5;124m'\u001B[39m,\n\u001B[0;32m      8\u001B[0m            \u001B[38;5;124m'\u001B[39m\u001B[38;5;124mRectangle\u001B[39m\u001B[38;5;124m'\u001B[39m, \u001B[38;5;124m'\u001B[39m\u001B[38;5;124mKDTree\u001B[39m\u001B[38;5;124m'\u001B[39m]\n\u001B[0;32m     11\u001B[0m \u001B[38;5;28;01mdef\u001B[39;00m \u001B[38;5;21mminkowski_distance_p\u001B[39m(x, y, p\u001B[38;5;241m=\u001B[39m\u001B[38;5;241m2\u001B[39m):\n",
      "File \u001B[1;32m_ckdtree.pyx:1\u001B[0m, in \u001B[0;36minit scipy.spatial._ckdtree\u001B[1;34m()\u001B[0m\n",
      "\u001B[1;31mValueError\u001B[0m: numpy.dtype size changed, may indicate binary incompatibility. Expected 96 from C header, got 88 from PyObject"
     ]
    }
   ],
   "execution_count": 91
  },
  {
   "metadata": {},
   "cell_type": "markdown",
   "source": [
    "## 基于简单流行度的推荐系统\n",
    "此时，可以基于不同书籍的用户评级的计数来构建基于简单流行度的推荐系统。很明显， J. K. Rowling 撰写的书很受欢迎。"
   ],
   "id": "95bd933596814a81"
  },
  {
   "metadata": {
    "ExecuteTime": {
     "end_time": "2024-07-14T10:21:33.143693Z",
     "start_time": "2024-07-14T10:21:32.824539Z"
    }
   },
   "cell_type": "code",
   "source": [
    "ratings_count = pd.DataFrame(ratings_explicit.groupby(['ISBN'])['bookRating'].sum())\n",
    "top10 = ratings_count.sort_values('bookRating', ascending = False).head(10)\n",
    "print (\"推荐下列书籍\")\n",
    "top10.merge(books, left_index = True, right_on = 'ISBN')"
   ],
   "id": "938791ec3f6cd9a",
   "outputs": [
    {
     "name": "stdout",
     "output_type": "stream",
     "text": [
      "推荐下列书籍\n"
     ]
    },
    {
     "data": {
      "text/plain": [
       "      bookRating        ISBN  \\\n",
       "408         5787  0316666343   \n",
       "748         4108  0385504209   \n",
       "522         3134  0312195516   \n",
       "2143        2798  059035342X   \n",
       "356         2595  0142001740   \n",
       "26          2551  0971880107   \n",
       "1105        2524  0060928336   \n",
       "706         2402  0446672211   \n",
       "231         2219  0452282152   \n",
       "118         2179  0671027360   \n",
       "\n",
       "                                              bookTitle       bookAuthor  \\\n",
       "408                           The Lovely Bones: A Novel     Alice Sebold   \n",
       "748                                   The Da Vinci Code        Dan Brown   \n",
       "522                 The Red Tent (Bestselling Backlist)    Anita Diamant   \n",
       "2143  Harry Potter and the Sorcerer's Stone (Harry P...    J. K. Rowling   \n",
       "356                             The Secret Life of Bees    Sue Monk Kidd   \n",
       "26                                          Wild Animus     Rich Shapero   \n",
       "1105    Divine Secrets of the Ya-Ya Sisterhood: A Novel    Rebecca Wells   \n",
       "706   Where the Heart Is (Oprah's Book Club (Paperba...     Billie Letts   \n",
       "231                           Girl with a Pearl Earring  Tracy Chevalier   \n",
       "118                                 Angels &amp; Demons        Dan Brown   \n",
       "\n",
       "      yearOfPublication               publisher  \n",
       "408                2002           Little, Brown  \n",
       "748                2003               Doubleday  \n",
       "522                1998             Picador USA  \n",
       "2143               1999  Arthur A. Levine Books  \n",
       "356                2003           Penguin Books  \n",
       "26                 2004                 Too Far  \n",
       "1105               1997               Perennial  \n",
       "706                1998            Warner Books  \n",
       "231                2001             Plume Books  \n",
       "118                2001             Pocket Star  "
      ],
      "text/html": [
       "<div>\n",
       "<style scoped>\n",
       "    .dataframe tbody tr th:only-of-type {\n",
       "        vertical-align: middle;\n",
       "    }\n",
       "\n",
       "    .dataframe tbody tr th {\n",
       "        vertical-align: top;\n",
       "    }\n",
       "\n",
       "    .dataframe thead th {\n",
       "        text-align: right;\n",
       "    }\n",
       "</style>\n",
       "<table border=\"1\" class=\"dataframe\">\n",
       "  <thead>\n",
       "    <tr style=\"text-align: right;\">\n",
       "      <th></th>\n",
       "      <th>bookRating</th>\n",
       "      <th>ISBN</th>\n",
       "      <th>bookTitle</th>\n",
       "      <th>bookAuthor</th>\n",
       "      <th>yearOfPublication</th>\n",
       "      <th>publisher</th>\n",
       "    </tr>\n",
       "  </thead>\n",
       "  <tbody>\n",
       "    <tr>\n",
       "      <th>408</th>\n",
       "      <td>5787</td>\n",
       "      <td>0316666343</td>\n",
       "      <td>The Lovely Bones: A Novel</td>\n",
       "      <td>Alice Sebold</td>\n",
       "      <td>2002</td>\n",
       "      <td>Little, Brown</td>\n",
       "    </tr>\n",
       "    <tr>\n",
       "      <th>748</th>\n",
       "      <td>4108</td>\n",
       "      <td>0385504209</td>\n",
       "      <td>The Da Vinci Code</td>\n",
       "      <td>Dan Brown</td>\n",
       "      <td>2003</td>\n",
       "      <td>Doubleday</td>\n",
       "    </tr>\n",
       "    <tr>\n",
       "      <th>522</th>\n",
       "      <td>3134</td>\n",
       "      <td>0312195516</td>\n",
       "      <td>The Red Tent (Bestselling Backlist)</td>\n",
       "      <td>Anita Diamant</td>\n",
       "      <td>1998</td>\n",
       "      <td>Picador USA</td>\n",
       "    </tr>\n",
       "    <tr>\n",
       "      <th>2143</th>\n",
       "      <td>2798</td>\n",
       "      <td>059035342X</td>\n",
       "      <td>Harry Potter and the Sorcerer's Stone (Harry P...</td>\n",
       "      <td>J. K. Rowling</td>\n",
       "      <td>1999</td>\n",
       "      <td>Arthur A. Levine Books</td>\n",
       "    </tr>\n",
       "    <tr>\n",
       "      <th>356</th>\n",
       "      <td>2595</td>\n",
       "      <td>0142001740</td>\n",
       "      <td>The Secret Life of Bees</td>\n",
       "      <td>Sue Monk Kidd</td>\n",
       "      <td>2003</td>\n",
       "      <td>Penguin Books</td>\n",
       "    </tr>\n",
       "    <tr>\n",
       "      <th>26</th>\n",
       "      <td>2551</td>\n",
       "      <td>0971880107</td>\n",
       "      <td>Wild Animus</td>\n",
       "      <td>Rich Shapero</td>\n",
       "      <td>2004</td>\n",
       "      <td>Too Far</td>\n",
       "    </tr>\n",
       "    <tr>\n",
       "      <th>1105</th>\n",
       "      <td>2524</td>\n",
       "      <td>0060928336</td>\n",
       "      <td>Divine Secrets of the Ya-Ya Sisterhood: A Novel</td>\n",
       "      <td>Rebecca Wells</td>\n",
       "      <td>1997</td>\n",
       "      <td>Perennial</td>\n",
       "    </tr>\n",
       "    <tr>\n",
       "      <th>706</th>\n",
       "      <td>2402</td>\n",
       "      <td>0446672211</td>\n",
       "      <td>Where the Heart Is (Oprah's Book Club (Paperba...</td>\n",
       "      <td>Billie Letts</td>\n",
       "      <td>1998</td>\n",
       "      <td>Warner Books</td>\n",
       "    </tr>\n",
       "    <tr>\n",
       "      <th>231</th>\n",
       "      <td>2219</td>\n",
       "      <td>0452282152</td>\n",
       "      <td>Girl with a Pearl Earring</td>\n",
       "      <td>Tracy Chevalier</td>\n",
       "      <td>2001</td>\n",
       "      <td>Plume Books</td>\n",
       "    </tr>\n",
       "    <tr>\n",
       "      <th>118</th>\n",
       "      <td>2179</td>\n",
       "      <td>0671027360</td>\n",
       "      <td>Angels &amp;amp; Demons</td>\n",
       "      <td>Dan Brown</td>\n",
       "      <td>2001</td>\n",
       "      <td>Pocket Star</td>\n",
       "    </tr>\n",
       "  </tbody>\n",
       "</table>\n",
       "</div>"
      ]
     },
     "execution_count": 92,
     "metadata": {},
     "output_type": "execute_result"
    }
   ],
   "execution_count": 92
  },
  {
   "metadata": {},
   "cell_type": "markdown",
   "source": "类似地隔离那些在 1-10 中给出明确评分的用户以及那些隐含行为被跟踪的用户",
   "id": "ecad420ef976caf6"
  },
  {
   "metadata": {
    "ExecuteTime": {
     "end_time": "2024-07-14T10:21:33.462197Z",
     "start_time": "2024-07-14T10:21:33.424854Z"
    }
   },
   "cell_type": "code",
   "source": [
    "users_exp_ratings = users[users.userID.isin(ratings_explicit.userID)]\n",
    "users_imp_ratings = users[users.userID.isin(ratings_implicit.userID)]\n",
    "print (users.shape)\n",
    "print (users_exp_ratings.shape)\n",
    "print (users_imp_ratings.shape)"
   ],
   "id": "6ddc5a91e9db3ccf",
   "outputs": [
    {
     "name": "stdout",
     "output_type": "stream",
     "text": [
      "(278858, 3)\n",
      "(68091, 3)\n",
      "(52451, 3)\n"
     ]
    }
   ],
   "execution_count": 93
  },
  {
   "metadata": {},
   "cell_type": "markdown",
   "source": [
    "## 基于协同过滤的推荐系统\n",
    "为了应对我的机器具有的计算能力并减少数据集大小，我正在考虑已经评定至少 100 本书籍和至少有 100 个评级的书籍的用户。"
   ],
   "id": "bdaf88be701a6471"
  },
  {
   "metadata": {
    "ExecuteTime": {
     "end_time": "2024-07-14T10:21:33.730818Z",
     "start_time": "2024-07-14T10:21:33.692815Z"
    }
   },
   "cell_type": "code",
   "source": [
    "counts1 = ratings_explicit['userID'].value_counts()\n",
    "ratings_explicit = ratings_explicit[ratings_explicit['userID'].isin(counts1[counts1 >= 100].index)]\n",
    "counts = ratings_explicit['bookRating'].value_counts()\n",
    "ratings_explicit = ratings_explicit[ratings_explicit['bookRating'].isin(counts[counts >= 100].index)]"
   ],
   "id": "2125cad2b12236e7",
   "outputs": [],
   "execution_count": 94
  },
  {
   "metadata": {},
   "cell_type": "markdown",
   "source": "从显式的评级表生成评级矩阵 构建基于 CF 的推荐系统的下一个关键步骤是从评级表生成用户项目评级矩阵。",
   "id": "ede5e0835ea18535"
  },
  {
   "metadata": {
    "ExecuteTime": {
     "end_time": "2024-07-14T10:21:34.031556Z",
     "start_time": "2024-07-14T10:21:33.815960Z"
    }
   },
   "cell_type": "code",
   "source": [
    "ratings_matrix = ratings_explicit.pivot(index='userID', columns='ISBN', values='bookRating')\n",
    "userID = ratings_matrix.index\n",
    "ISBN = ratings_matrix.columns\n",
    "print(ratings_matrix.shape)\n",
    "ratings_matrix.head()"
   ],
   "id": "764555ab3575b863",
   "outputs": [
    {
     "name": "stdout",
     "output_type": "stream",
     "text": [
      "(449, 66574)\n"
     ]
    },
    {
     "data": {
      "text/plain": [
       "ISBN    0000913154  0001046438  000104687X  0001047213  0001047973  \\\n",
       "userID                                                               \n",
       "2033           NaN         NaN         NaN         NaN         NaN   \n",
       "2110           NaN         NaN         NaN         NaN         NaN   \n",
       "2276           NaN         NaN         NaN         NaN         NaN   \n",
       "4017           NaN         NaN         NaN         NaN         NaN   \n",
       "4385           NaN         NaN         NaN         NaN         NaN   \n",
       "\n",
       "ISBN    000104799X  0001048082  0001053736  0001053744  0001055607  ...  \\\n",
       "userID                                                              ...   \n",
       "2033           NaN         NaN         NaN         NaN         NaN  ...   \n",
       "2110           NaN         NaN         NaN         NaN         NaN  ...   \n",
       "2276           NaN         NaN         NaN         NaN         NaN  ...   \n",
       "4017           NaN         NaN         NaN         NaN         NaN  ...   \n",
       "4385           NaN         NaN         NaN         NaN         NaN  ...   \n",
       "\n",
       "ISBN    B000092Q0A  B00009EF82  B00009NDAN  B0000DYXID  B0000T6KHI  \\\n",
       "userID                                                               \n",
       "2033           NaN         NaN         NaN         NaN         NaN   \n",
       "2110           NaN         NaN         NaN         NaN         NaN   \n",
       "2276           NaN         NaN         NaN         NaN         NaN   \n",
       "4017           NaN         NaN         NaN         NaN         NaN   \n",
       "4385           NaN         NaN         NaN         NaN         NaN   \n",
       "\n",
       "ISBN    B0000VZEJQ  B0000X8HIE  B00013AX9E  B0001I1KOG  B000234N3A  \n",
       "userID                                                              \n",
       "2033           NaN         NaN         NaN         NaN         NaN  \n",
       "2110           NaN         NaN         NaN         NaN         NaN  \n",
       "2276           NaN         NaN         NaN         NaN         NaN  \n",
       "4017           NaN         NaN         NaN         NaN         NaN  \n",
       "4385           NaN         NaN         NaN         NaN         NaN  \n",
       "\n",
       "[5 rows x 66574 columns]"
      ],
      "text/html": [
       "<div>\n",
       "<style scoped>\n",
       "    .dataframe tbody tr th:only-of-type {\n",
       "        vertical-align: middle;\n",
       "    }\n",
       "\n",
       "    .dataframe tbody tr th {\n",
       "        vertical-align: top;\n",
       "    }\n",
       "\n",
       "    .dataframe thead th {\n",
       "        text-align: right;\n",
       "    }\n",
       "</style>\n",
       "<table border=\"1\" class=\"dataframe\">\n",
       "  <thead>\n",
       "    <tr style=\"text-align: right;\">\n",
       "      <th>ISBN</th>\n",
       "      <th>0000913154</th>\n",
       "      <th>0001046438</th>\n",
       "      <th>000104687X</th>\n",
       "      <th>0001047213</th>\n",
       "      <th>0001047973</th>\n",
       "      <th>000104799X</th>\n",
       "      <th>0001048082</th>\n",
       "      <th>0001053736</th>\n",
       "      <th>0001053744</th>\n",
       "      <th>0001055607</th>\n",
       "      <th>...</th>\n",
       "      <th>B000092Q0A</th>\n",
       "      <th>B00009EF82</th>\n",
       "      <th>B00009NDAN</th>\n",
       "      <th>B0000DYXID</th>\n",
       "      <th>B0000T6KHI</th>\n",
       "      <th>B0000VZEJQ</th>\n",
       "      <th>B0000X8HIE</th>\n",
       "      <th>B00013AX9E</th>\n",
       "      <th>B0001I1KOG</th>\n",
       "      <th>B000234N3A</th>\n",
       "    </tr>\n",
       "    <tr>\n",
       "      <th>userID</th>\n",
       "      <th></th>\n",
       "      <th></th>\n",
       "      <th></th>\n",
       "      <th></th>\n",
       "      <th></th>\n",
       "      <th></th>\n",
       "      <th></th>\n",
       "      <th></th>\n",
       "      <th></th>\n",
       "      <th></th>\n",
       "      <th></th>\n",
       "      <th></th>\n",
       "      <th></th>\n",
       "      <th></th>\n",
       "      <th></th>\n",
       "      <th></th>\n",
       "      <th></th>\n",
       "      <th></th>\n",
       "      <th></th>\n",
       "      <th></th>\n",
       "      <th></th>\n",
       "    </tr>\n",
       "  </thead>\n",
       "  <tbody>\n",
       "    <tr>\n",
       "      <th>2033</th>\n",
       "      <td>NaN</td>\n",
       "      <td>NaN</td>\n",
       "      <td>NaN</td>\n",
       "      <td>NaN</td>\n",
       "      <td>NaN</td>\n",
       "      <td>NaN</td>\n",
       "      <td>NaN</td>\n",
       "      <td>NaN</td>\n",
       "      <td>NaN</td>\n",
       "      <td>NaN</td>\n",
       "      <td>...</td>\n",
       "      <td>NaN</td>\n",
       "      <td>NaN</td>\n",
       "      <td>NaN</td>\n",
       "      <td>NaN</td>\n",
       "      <td>NaN</td>\n",
       "      <td>NaN</td>\n",
       "      <td>NaN</td>\n",
       "      <td>NaN</td>\n",
       "      <td>NaN</td>\n",
       "      <td>NaN</td>\n",
       "    </tr>\n",
       "    <tr>\n",
       "      <th>2110</th>\n",
       "      <td>NaN</td>\n",
       "      <td>NaN</td>\n",
       "      <td>NaN</td>\n",
       "      <td>NaN</td>\n",
       "      <td>NaN</td>\n",
       "      <td>NaN</td>\n",
       "      <td>NaN</td>\n",
       "      <td>NaN</td>\n",
       "      <td>NaN</td>\n",
       "      <td>NaN</td>\n",
       "      <td>...</td>\n",
       "      <td>NaN</td>\n",
       "      <td>NaN</td>\n",
       "      <td>NaN</td>\n",
       "      <td>NaN</td>\n",
       "      <td>NaN</td>\n",
       "      <td>NaN</td>\n",
       "      <td>NaN</td>\n",
       "      <td>NaN</td>\n",
       "      <td>NaN</td>\n",
       "      <td>NaN</td>\n",
       "    </tr>\n",
       "    <tr>\n",
       "      <th>2276</th>\n",
       "      <td>NaN</td>\n",
       "      <td>NaN</td>\n",
       "      <td>NaN</td>\n",
       "      <td>NaN</td>\n",
       "      <td>NaN</td>\n",
       "      <td>NaN</td>\n",
       "      <td>NaN</td>\n",
       "      <td>NaN</td>\n",
       "      <td>NaN</td>\n",
       "      <td>NaN</td>\n",
       "      <td>...</td>\n",
       "      <td>NaN</td>\n",
       "      <td>NaN</td>\n",
       "      <td>NaN</td>\n",
       "      <td>NaN</td>\n",
       "      <td>NaN</td>\n",
       "      <td>NaN</td>\n",
       "      <td>NaN</td>\n",
       "      <td>NaN</td>\n",
       "      <td>NaN</td>\n",
       "      <td>NaN</td>\n",
       "    </tr>\n",
       "    <tr>\n",
       "      <th>4017</th>\n",
       "      <td>NaN</td>\n",
       "      <td>NaN</td>\n",
       "      <td>NaN</td>\n",
       "      <td>NaN</td>\n",
       "      <td>NaN</td>\n",
       "      <td>NaN</td>\n",
       "      <td>NaN</td>\n",
       "      <td>NaN</td>\n",
       "      <td>NaN</td>\n",
       "      <td>NaN</td>\n",
       "      <td>...</td>\n",
       "      <td>NaN</td>\n",
       "      <td>NaN</td>\n",
       "      <td>NaN</td>\n",
       "      <td>NaN</td>\n",
       "      <td>NaN</td>\n",
       "      <td>NaN</td>\n",
       "      <td>NaN</td>\n",
       "      <td>NaN</td>\n",
       "      <td>NaN</td>\n",
       "      <td>NaN</td>\n",
       "    </tr>\n",
       "    <tr>\n",
       "      <th>4385</th>\n",
       "      <td>NaN</td>\n",
       "      <td>NaN</td>\n",
       "      <td>NaN</td>\n",
       "      <td>NaN</td>\n",
       "      <td>NaN</td>\n",
       "      <td>NaN</td>\n",
       "      <td>NaN</td>\n",
       "      <td>NaN</td>\n",
       "      <td>NaN</td>\n",
       "      <td>NaN</td>\n",
       "      <td>...</td>\n",
       "      <td>NaN</td>\n",
       "      <td>NaN</td>\n",
       "      <td>NaN</td>\n",
       "      <td>NaN</td>\n",
       "      <td>NaN</td>\n",
       "      <td>NaN</td>\n",
       "      <td>NaN</td>\n",
       "      <td>NaN</td>\n",
       "      <td>NaN</td>\n",
       "      <td>NaN</td>\n",
       "    </tr>\n",
       "  </tbody>\n",
       "</table>\n",
       "<p>5 rows × 66574 columns</p>\n",
       "</div>"
      ]
     },
     "execution_count": 95,
     "metadata": {},
     "output_type": "execute_result"
    }
   ],
   "execution_count": 95
  },
  {
   "metadata": {
    "ExecuteTime": {
     "end_time": "2024-07-14T10:21:34.038264Z",
     "start_time": "2024-07-14T10:21:34.033563Z"
    }
   },
   "cell_type": "code",
   "source": [
    "n_users = ratings_matrix.shape[0] #只考虑那些给出明确评级的用户\n",
    "n_books = ratings_matrix.shape[1]\n",
    "print (n_users, n_books)"
   ],
   "id": "d37be37cce4a2023",
   "outputs": [
    {
     "name": "stdout",
     "output_type": "stream",
     "text": [
      "449 66574\n"
     ]
    }
   ],
   "execution_count": 96
  },
  {
   "metadata": {},
   "cell_type": "markdown",
   "source": "因为 NaN 不能通过训练算法来处理，将它们替换为0，这表示没有评级 设置数据类型",
   "id": "212a7c3e061f6d6a"
  },
  {
   "metadata": {
    "ExecuteTime": {
     "end_time": "2024-07-14T10:21:34.369758Z",
     "start_time": "2024-07-14T10:21:34.124697Z"
    }
   },
   "cell_type": "code",
   "source": [
    "ratings_matrix.fillna(0, inplace = True)\n",
    "ratings_matrix = ratings_matrix.astype(np.int32)\n",
    "ratings_matrix.head(5)"
   ],
   "id": "a12b64fbed019073",
   "outputs": [
    {
     "data": {
      "text/plain": [
       "ISBN    0000913154  0001046438  000104687X  0001047213  0001047973  \\\n",
       "userID                                                               \n",
       "2033             0           0           0           0           0   \n",
       "2110             0           0           0           0           0   \n",
       "2276             0           0           0           0           0   \n",
       "4017             0           0           0           0           0   \n",
       "4385             0           0           0           0           0   \n",
       "\n",
       "ISBN    000104799X  0001048082  0001053736  0001053744  0001055607  ...  \\\n",
       "userID                                                              ...   \n",
       "2033             0           0           0           0           0  ...   \n",
       "2110             0           0           0           0           0  ...   \n",
       "2276             0           0           0           0           0  ...   \n",
       "4017             0           0           0           0           0  ...   \n",
       "4385             0           0           0           0           0  ...   \n",
       "\n",
       "ISBN    B000092Q0A  B00009EF82  B00009NDAN  B0000DYXID  B0000T6KHI  \\\n",
       "userID                                                               \n",
       "2033             0           0           0           0           0   \n",
       "2110             0           0           0           0           0   \n",
       "2276             0           0           0           0           0   \n",
       "4017             0           0           0           0           0   \n",
       "4385             0           0           0           0           0   \n",
       "\n",
       "ISBN    B0000VZEJQ  B0000X8HIE  B00013AX9E  B0001I1KOG  B000234N3A  \n",
       "userID                                                              \n",
       "2033             0           0           0           0           0  \n",
       "2110             0           0           0           0           0  \n",
       "2276             0           0           0           0           0  \n",
       "4017             0           0           0           0           0  \n",
       "4385             0           0           0           0           0  \n",
       "\n",
       "[5 rows x 66574 columns]"
      ],
      "text/html": [
       "<div>\n",
       "<style scoped>\n",
       "    .dataframe tbody tr th:only-of-type {\n",
       "        vertical-align: middle;\n",
       "    }\n",
       "\n",
       "    .dataframe tbody tr th {\n",
       "        vertical-align: top;\n",
       "    }\n",
       "\n",
       "    .dataframe thead th {\n",
       "        text-align: right;\n",
       "    }\n",
       "</style>\n",
       "<table border=\"1\" class=\"dataframe\">\n",
       "  <thead>\n",
       "    <tr style=\"text-align: right;\">\n",
       "      <th>ISBN</th>\n",
       "      <th>0000913154</th>\n",
       "      <th>0001046438</th>\n",
       "      <th>000104687X</th>\n",
       "      <th>0001047213</th>\n",
       "      <th>0001047973</th>\n",
       "      <th>000104799X</th>\n",
       "      <th>0001048082</th>\n",
       "      <th>0001053736</th>\n",
       "      <th>0001053744</th>\n",
       "      <th>0001055607</th>\n",
       "      <th>...</th>\n",
       "      <th>B000092Q0A</th>\n",
       "      <th>B00009EF82</th>\n",
       "      <th>B00009NDAN</th>\n",
       "      <th>B0000DYXID</th>\n",
       "      <th>B0000T6KHI</th>\n",
       "      <th>B0000VZEJQ</th>\n",
       "      <th>B0000X8HIE</th>\n",
       "      <th>B00013AX9E</th>\n",
       "      <th>B0001I1KOG</th>\n",
       "      <th>B000234N3A</th>\n",
       "    </tr>\n",
       "    <tr>\n",
       "      <th>userID</th>\n",
       "      <th></th>\n",
       "      <th></th>\n",
       "      <th></th>\n",
       "      <th></th>\n",
       "      <th></th>\n",
       "      <th></th>\n",
       "      <th></th>\n",
       "      <th></th>\n",
       "      <th></th>\n",
       "      <th></th>\n",
       "      <th></th>\n",
       "      <th></th>\n",
       "      <th></th>\n",
       "      <th></th>\n",
       "      <th></th>\n",
       "      <th></th>\n",
       "      <th></th>\n",
       "      <th></th>\n",
       "      <th></th>\n",
       "      <th></th>\n",
       "      <th></th>\n",
       "    </tr>\n",
       "  </thead>\n",
       "  <tbody>\n",
       "    <tr>\n",
       "      <th>2033</th>\n",
       "      <td>0</td>\n",
       "      <td>0</td>\n",
       "      <td>0</td>\n",
       "      <td>0</td>\n",
       "      <td>0</td>\n",
       "      <td>0</td>\n",
       "      <td>0</td>\n",
       "      <td>0</td>\n",
       "      <td>0</td>\n",
       "      <td>0</td>\n",
       "      <td>...</td>\n",
       "      <td>0</td>\n",
       "      <td>0</td>\n",
       "      <td>0</td>\n",
       "      <td>0</td>\n",
       "      <td>0</td>\n",
       "      <td>0</td>\n",
       "      <td>0</td>\n",
       "      <td>0</td>\n",
       "      <td>0</td>\n",
       "      <td>0</td>\n",
       "    </tr>\n",
       "    <tr>\n",
       "      <th>2110</th>\n",
       "      <td>0</td>\n",
       "      <td>0</td>\n",
       "      <td>0</td>\n",
       "      <td>0</td>\n",
       "      <td>0</td>\n",
       "      <td>0</td>\n",
       "      <td>0</td>\n",
       "      <td>0</td>\n",
       "      <td>0</td>\n",
       "      <td>0</td>\n",
       "      <td>...</td>\n",
       "      <td>0</td>\n",
       "      <td>0</td>\n",
       "      <td>0</td>\n",
       "      <td>0</td>\n",
       "      <td>0</td>\n",
       "      <td>0</td>\n",
       "      <td>0</td>\n",
       "      <td>0</td>\n",
       "      <td>0</td>\n",
       "      <td>0</td>\n",
       "    </tr>\n",
       "    <tr>\n",
       "      <th>2276</th>\n",
       "      <td>0</td>\n",
       "      <td>0</td>\n",
       "      <td>0</td>\n",
       "      <td>0</td>\n",
       "      <td>0</td>\n",
       "      <td>0</td>\n",
       "      <td>0</td>\n",
       "      <td>0</td>\n",
       "      <td>0</td>\n",
       "      <td>0</td>\n",
       "      <td>...</td>\n",
       "      <td>0</td>\n",
       "      <td>0</td>\n",
       "      <td>0</td>\n",
       "      <td>0</td>\n",
       "      <td>0</td>\n",
       "      <td>0</td>\n",
       "      <td>0</td>\n",
       "      <td>0</td>\n",
       "      <td>0</td>\n",
       "      <td>0</td>\n",
       "    </tr>\n",
       "    <tr>\n",
       "      <th>4017</th>\n",
       "      <td>0</td>\n",
       "      <td>0</td>\n",
       "      <td>0</td>\n",
       "      <td>0</td>\n",
       "      <td>0</td>\n",
       "      <td>0</td>\n",
       "      <td>0</td>\n",
       "      <td>0</td>\n",
       "      <td>0</td>\n",
       "      <td>0</td>\n",
       "      <td>...</td>\n",
       "      <td>0</td>\n",
       "      <td>0</td>\n",
       "      <td>0</td>\n",
       "      <td>0</td>\n",
       "      <td>0</td>\n",
       "      <td>0</td>\n",
       "      <td>0</td>\n",
       "      <td>0</td>\n",
       "      <td>0</td>\n",
       "      <td>0</td>\n",
       "    </tr>\n",
       "    <tr>\n",
       "      <th>4385</th>\n",
       "      <td>0</td>\n",
       "      <td>0</td>\n",
       "      <td>0</td>\n",
       "      <td>0</td>\n",
       "      <td>0</td>\n",
       "      <td>0</td>\n",
       "      <td>0</td>\n",
       "      <td>0</td>\n",
       "      <td>0</td>\n",
       "      <td>0</td>\n",
       "      <td>...</td>\n",
       "      <td>0</td>\n",
       "      <td>0</td>\n",
       "      <td>0</td>\n",
       "      <td>0</td>\n",
       "      <td>0</td>\n",
       "      <td>0</td>\n",
       "      <td>0</td>\n",
       "      <td>0</td>\n",
       "      <td>0</td>\n",
       "      <td>0</td>\n",
       "    </tr>\n",
       "  </tbody>\n",
       "</table>\n",
       "<p>5 rows × 66574 columns</p>\n",
       "</div>"
      ]
     },
     "execution_count": 97,
     "metadata": {},
     "output_type": "execute_result"
    }
   ],
   "execution_count": 97
  },
  {
   "metadata": {},
   "cell_type": "markdown",
   "source": "复查稀疏",
   "id": "308f184b379272aa"
  },
  {
   "metadata": {
    "ExecuteTime": {
     "end_time": "2024-07-14T10:21:34.376322Z",
     "start_time": "2024-07-14T10:21:34.371767Z"
    }
   },
   "cell_type": "code",
   "source": [
    "sparsity=1.0-len(ratings_explicit)/float(users_exp_ratings.shape[0]*n_books)\n",
    "print ('图书交叉数据集的稀疏级别是 ' +  str(sparsity*100) + ' %')"
   ],
   "id": "8ba6e31778d51dc7",
   "outputs": [
    {
     "name": "stdout",
     "output_type": "stream",
     "text": [
      "图书交叉数据集的稀疏级别是 99.99772184106935 %\n"
     ]
    }
   ],
   "execution_count": 98
  }
 ],
 "metadata": {
  "kernelspec": {
   "display_name": "Python 3",
   "language": "python",
   "name": "python3"
  },
  "language_info": {
   "codemirror_mode": {
    "name": "ipython",
    "version": 2
   },
   "file_extension": ".py",
   "mimetype": "text/x-python",
   "name": "python",
   "nbconvert_exporter": "python",
   "pygments_lexer": "ipython2",
   "version": "2.7.6"
  }
 },
 "nbformat": 4,
 "nbformat_minor": 5
}
